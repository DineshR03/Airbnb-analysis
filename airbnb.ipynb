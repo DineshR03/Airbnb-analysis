{
 "cells": [
  {
   "cell_type": "code",
   "execution_count": 1,
   "metadata": {},
   "outputs": [],
   "source": [
    "import json\n",
    "import pandas as pd\n",
    "\n",
    "# Extract the data from Airbnb json dataset\n",
    "\n",
    "d=open('sample_airbnb.json','r')\n",
    "airbnb_data=json.load(d)"
   ]
  },
  {
   "cell_type": "code",
   "execution_count": 2,
   "metadata": {},
   "outputs": [],
   "source": [
    "# extract Hotel Data and converting into DF\n",
    "\n",
    "hotel_data=[]\n",
    "\n",
    "for i in airbnb_data:\n",
    "        data=dict(\n",
    "                id=i['_id'],\n",
    "                listing_url=i['listing_url'],\n",
    "                name=i['name'],\n",
    "                description=i['description'],\n",
    "                neighborhood_overview=i['neighborhood_overview'],\n",
    "                transit=i['transit'],\n",
    "                street=i['address']['street'],\n",
    "                suburb=i['address']['suburb'],\n",
    "                government_area=i['address']['government_area'],\n",
    "                market=i['address']['market'],\n",
    "                country=i['address']['country'],    \n",
    "                country_code=i['address']['country_code'],\n",
    "                coordinates=i['address']['location'].get('coordinates'),\n",
    "                price=i['price'],\n",
    "                weekly_price=i.get('weekly_price'),\n",
    "                monthly_price=i.get('monthly_price'),\n",
    "                security_deposit=i.get('security_deposit'),\n",
    "                cleaning_fee=i.get('cleaning_fee'),\n",
    "                cancellation_policy=i['cancellation_policy'],\n",
    "                )\n",
    "        hotel_data.append(data)\n",
    "        \n",
    "Hotel_info=pd.DataFrame(hotel_data)"
   ]
  },
  {
   "cell_type": "code",
   "execution_count": 3,
   "metadata": {},
   "outputs": [
    {
     "name": "stdout",
     "output_type": "stream",
     "text": [
      "<class 'pandas.core.frame.DataFrame'>\n",
      "RangeIndex: 5555 entries, 0 to 5554\n",
      "Data columns (total 19 columns):\n",
      " #   Column                 Non-Null Count  Dtype  \n",
      "---  ------                 --------------  -----  \n",
      " 0   id                     5555 non-null   object \n",
      " 1   listing_url            5555 non-null   object \n",
      " 2   name                   5555 non-null   object \n",
      " 3   description            5555 non-null   object \n",
      " 4   neighborhood_overview  5555 non-null   object \n",
      " 5   transit                5555 non-null   object \n",
      " 6   street                 5555 non-null   object \n",
      " 7   suburb                 5555 non-null   object \n",
      " 8   government_area        5555 non-null   object \n",
      " 9   market                 5555 non-null   object \n",
      " 10  country                5555 non-null   object \n",
      " 11  country_code           5555 non-null   object \n",
      " 12  coordinates            5555 non-null   object \n",
      " 13  price                  5555 non-null   float64\n",
      " 14  weekly_price           714 non-null    float64\n",
      " 15  monthly_price          656 non-null    float64\n",
      " 16  security_deposit       3471 non-null   float64\n",
      " 17  cleaning_fee           4024 non-null   float64\n",
      " 18  cancellation_policy    5555 non-null   object \n",
      "dtypes: float64(5), object(14)\n",
      "memory usage: 824.7+ KB\n"
     ]
    }
   ],
   "source": [
    "# Checking null values & Data types\n",
    "\n",
    "Hotel_info.info()"
   ]
  },
  {
   "cell_type": "markdown",
   "metadata": {},
   "source": [
    "Data Preprocessing for Hotel_info"
   ]
  },
  {
   "cell_type": "code",
   "execution_count": 4,
   "metadata": {},
   "outputs": [],
   "source": [
    "# Joining coordinates\n",
    "\n",
    "Hotel_info['coordinates'] = [', '.join(map(str, x)) if isinstance(x, list) else '' for x in Hotel_info['coordinates']]"
   ]
  },
  {
   "cell_type": "code",
   "execution_count": 5,
   "metadata": {},
   "outputs": [
    {
     "name": "stdout",
     "output_type": "stream",
     "text": [
      "Columns with empty strings: ['name', 'description', 'neighborhood_overview', 'transit', 'suburb', 'market']\n"
     ]
    }
   ],
   "source": [
    "# Checking Empty Values in columns\n",
    "\n",
    "columns_with_empty_strings = Hotel_info.eq('').any()\n",
    "columns_with_empty_strings = columns_with_empty_strings[columns_with_empty_strings].index\n",
    "print(\"Columns with empty strings:\", columns_with_empty_strings.tolist())"
   ]
  },
  {
   "cell_type": "code",
   "execution_count": 6,
   "metadata": {},
   "outputs": [],
   "source": [
    "# Fill Missing/Null Values\n",
    "\n",
    "Hotel_info[['security_deposit','cleaning_fee','weekly_price','monthly_price']]=Hotel_info[['security_deposit','cleaning_fee','weekly_price','monthly_price']].fillna(0)\n",
    "Hotel_info.replace({\"name\":{'':'No data found'},\n",
    "                   \"description\":{'':'No data found'},\n",
    "                   \"neighborhood_overview\":{'':'No data found'},\n",
    "                   \"transit\":{'':'No data found'},\n",
    "                   \"suburb\":{'':'No data found'},\n",
    "                   \"market\":{'':'No data found'}},inplace=True)\n",
    "\n",
    "\n",
    "# Changing Valid data types\n",
    "\n",
    "Hotel_info[['price','security_deposit','cleaning_fee','weekly_price','monthly_price']]=Hotel_info[['price','security_deposit','cleaning_fee','weekly_price','monthly_price']].astype(dtype='int64')\n"
   ]
  },
  {
   "cell_type": "code",
   "execution_count": 7,
   "metadata": {},
   "outputs": [
    {
     "data": {
      "text/html": [
       "<div>\n",
       "<style scoped>\n",
       "    .dataframe tbody tr th:only-of-type {\n",
       "        vertical-align: middle;\n",
       "    }\n",
       "\n",
       "    .dataframe tbody tr th {\n",
       "        vertical-align: top;\n",
       "    }\n",
       "\n",
       "    .dataframe thead th {\n",
       "        text-align: right;\n",
       "    }\n",
       "</style>\n",
       "<table border=\"1\" class=\"dataframe\">\n",
       "  <thead>\n",
       "    <tr style=\"text-align: right;\">\n",
       "      <th></th>\n",
       "      <th>id</th>\n",
       "      <th>listing_url</th>\n",
       "      <th>name</th>\n",
       "      <th>description</th>\n",
       "      <th>neighborhood_overview</th>\n",
       "      <th>transit</th>\n",
       "      <th>street</th>\n",
       "      <th>suburb</th>\n",
       "      <th>government_area</th>\n",
       "      <th>market</th>\n",
       "      <th>country</th>\n",
       "      <th>country_code</th>\n",
       "      <th>coordinates</th>\n",
       "      <th>price</th>\n",
       "      <th>weekly_price</th>\n",
       "      <th>monthly_price</th>\n",
       "      <th>security_deposit</th>\n",
       "      <th>cleaning_fee</th>\n",
       "      <th>cancellation_policy</th>\n",
       "    </tr>\n",
       "  </thead>\n",
       "  <tbody>\n",
       "    <tr>\n",
       "      <th>0</th>\n",
       "      <td>1003530</td>\n",
       "      <td>https://www.airbnb.com/rooms/1003530</td>\n",
       "      <td>New York City - Upper West Side Apt</td>\n",
       "      <td>Murphy bed, optional second bedroom available....</td>\n",
       "      <td>Great neighborhood - many terrific restaurants...</td>\n",
       "      <td>Conveniently located near 1, 2, 3, B &amp; C subwa...</td>\n",
       "      <td>New York, NY, United States</td>\n",
       "      <td>Manhattan</td>\n",
       "      <td>Upper West Side</td>\n",
       "      <td>New York</td>\n",
       "      <td>United States</td>\n",
       "      <td>US</td>\n",
       "      <td>-73.96523, 40.79962</td>\n",
       "      <td>135</td>\n",
       "      <td>0</td>\n",
       "      <td>0</td>\n",
       "      <td>0</td>\n",
       "      <td>135</td>\n",
       "      <td>strict_14_with_grace_period</td>\n",
       "    </tr>\n",
       "    <tr>\n",
       "      <th>1</th>\n",
       "      <td>10133554</td>\n",
       "      <td>https://www.airbnb.com/rooms/10133554</td>\n",
       "      <td>Double and triple rooms Blue mosque</td>\n",
       "      <td>We are on the central city  Blue mosque 5 minu...</td>\n",
       "      <td>Cankurtaran mahallesi akbıyık caddesi no 22 Su...</td>\n",
       "      <td>Tram 5 minutes  metro 10 minutes  Bus 10 minutes</td>\n",
       "      <td>Fatih , İstanbul, Turkey</td>\n",
       "      <td>Fatih</td>\n",
       "      <td>Fatih</td>\n",
       "      <td>Istanbul</td>\n",
       "      <td>Turkey</td>\n",
       "      <td>TR</td>\n",
       "      <td>28.98009, 41.0062</td>\n",
       "      <td>121</td>\n",
       "      <td>0</td>\n",
       "      <td>0</td>\n",
       "      <td>0</td>\n",
       "      <td>0</td>\n",
       "      <td>moderate</td>\n",
       "    </tr>\n",
       "    <tr>\n",
       "      <th>2</th>\n",
       "      <td>10059872</td>\n",
       "      <td>https://www.airbnb.com/rooms/10059872</td>\n",
       "      <td>Soho Cozy, Spacious and Convenient</td>\n",
       "      <td>Clean, fully furnish, Spacious 1 bedroom flat ...</td>\n",
       "      <td>No data found</td>\n",
       "      <td>No data found</td>\n",
       "      <td>Hong Kong, Hong Kong Island, Hong Kong</td>\n",
       "      <td>Central &amp; Western District</td>\n",
       "      <td>Central &amp; Western</td>\n",
       "      <td>Hong Kong</td>\n",
       "      <td>Hong Kong</td>\n",
       "      <td>HK</td>\n",
       "      <td>114.15027, 22.28158</td>\n",
       "      <td>699</td>\n",
       "      <td>5000</td>\n",
       "      <td>0</td>\n",
       "      <td>0</td>\n",
       "      <td>0</td>\n",
       "      <td>flexible</td>\n",
       "    </tr>\n",
       "    <tr>\n",
       "      <th>3</th>\n",
       "      <td>10084023</td>\n",
       "      <td>https://www.airbnb.com/rooms/10084023</td>\n",
       "      <td>City center private room with bed</td>\n",
       "      <td>House is located 5mins walk from Sham Shui Po ...</td>\n",
       "      <td>Cheapest food, electronic device, clothing and...</td>\n",
       "      <td>Close to 3 different MTR Station, Sham shui Po...</td>\n",
       "      <td>Hong Kong , 九龍, Hong Kong</td>\n",
       "      <td>Sham Shui Po District</td>\n",
       "      <td>Sham Shui Po</td>\n",
       "      <td>Hong Kong</td>\n",
       "      <td>Hong Kong</td>\n",
       "      <td>HK</td>\n",
       "      <td>114.1669, 22.3314</td>\n",
       "      <td>181</td>\n",
       "      <td>1350</td>\n",
       "      <td>5000</td>\n",
       "      <td>0</td>\n",
       "      <td>50</td>\n",
       "      <td>strict_14_with_grace_period</td>\n",
       "    </tr>\n",
       "    <tr>\n",
       "      <th>4</th>\n",
       "      <td>10091713</td>\n",
       "      <td>https://www.airbnb.com/rooms/10091713</td>\n",
       "      <td>Surry Hills Studio - Your Perfect Base in Sydney</td>\n",
       "      <td>This spacious, light filled studio has everyth...</td>\n",
       "      <td>Surry Hills is a vibrant eclectic community an...</td>\n",
       "      <td>Travel Card 'Opal' travel cards work on all Sy...</td>\n",
       "      <td>Surry Hills, NSW, Australia</td>\n",
       "      <td>Darlinghurst</td>\n",
       "      <td>Sydney</td>\n",
       "      <td>Sydney</td>\n",
       "      <td>Australia</td>\n",
       "      <td>AU</td>\n",
       "      <td>151.21554, -33.88029</td>\n",
       "      <td>181</td>\n",
       "      <td>0</td>\n",
       "      <td>0</td>\n",
       "      <td>300</td>\n",
       "      <td>50</td>\n",
       "      <td>strict_14_with_grace_period</td>\n",
       "    </tr>\n",
       "    <tr>\n",
       "      <th>...</th>\n",
       "      <td>...</td>\n",
       "      <td>...</td>\n",
       "      <td>...</td>\n",
       "      <td>...</td>\n",
       "      <td>...</td>\n",
       "      <td>...</td>\n",
       "      <td>...</td>\n",
       "      <td>...</td>\n",
       "      <td>...</td>\n",
       "      <td>...</td>\n",
       "      <td>...</td>\n",
       "      <td>...</td>\n",
       "      <td>...</td>\n",
       "      <td>...</td>\n",
       "      <td>...</td>\n",
       "      <td>...</td>\n",
       "      <td>...</td>\n",
       "      <td>...</td>\n",
       "      <td>...</td>\n",
       "    </tr>\n",
       "    <tr>\n",
       "      <th>5550</th>\n",
       "      <td>9985696</td>\n",
       "      <td>https://www.airbnb.com/rooms/9985696</td>\n",
       "      <td>Kadıköy-Altıyol</td>\n",
       "      <td>Kadıköy merkezde 2+1 dairem vardır.Çok kalabal...</td>\n",
       "      <td>No data found</td>\n",
       "      <td>No data found</td>\n",
       "      <td>Kadıköy, İstanbul, Turkey</td>\n",
       "      <td>Moda</td>\n",
       "      <td>Kadikoy</td>\n",
       "      <td>Istanbul</td>\n",
       "      <td>Turkey</td>\n",
       "      <td>TR</td>\n",
       "      <td>29.03079, 40.98563</td>\n",
       "      <td>501</td>\n",
       "      <td>0</td>\n",
       "      <td>0</td>\n",
       "      <td>0</td>\n",
       "      <td>0</td>\n",
       "      <td>flexible</td>\n",
       "    </tr>\n",
       "    <tr>\n",
       "      <th>5551</th>\n",
       "      <td>9993190</td>\n",
       "      <td>https://www.airbnb.com/rooms/9993190</td>\n",
       "      <td>Just Steps from the Ocean at Premier Platinum ...</td>\n",
       "      <td>Relax Hawaiian Style in Gated Community on Oce...</td>\n",
       "      <td>Location: Located at the south end of Lahaina ...</td>\n",
       "      <td>You can walk to most attractions within Lahain...</td>\n",
       "      <td>Lahaina, HI, United States</td>\n",
       "      <td>Lahaina</td>\n",
       "      <td>Lahaina</td>\n",
       "      <td>Maui</td>\n",
       "      <td>United States</td>\n",
       "      <td>US</td>\n",
       "      <td>-156.66752, 20.85894</td>\n",
       "      <td>220</td>\n",
       "      <td>0</td>\n",
       "      <td>0</td>\n",
       "      <td>200</td>\n",
       "      <td>315</td>\n",
       "      <td>strict_14_with_grace_period</td>\n",
       "    </tr>\n",
       "    <tr>\n",
       "      <th>5552</th>\n",
       "      <td>9887054</td>\n",
       "      <td>https://www.airbnb.com/rooms/9887054</td>\n",
       "      <td>Quarry Bay fully furnished studio C</td>\n",
       "      <td>Newly renovated studio flat with full furniture.</td>\n",
       "      <td>No data found</td>\n",
       "      <td>No data found</td>\n",
       "      <td>Hong Kong, Hong Kong Island, Hong Kong</td>\n",
       "      <td>Quarry Bay</td>\n",
       "      <td>Eastern</td>\n",
       "      <td>Hong Kong</td>\n",
       "      <td>Hong Kong</td>\n",
       "      <td>HK</td>\n",
       "      <td>114.20722, 22.29157</td>\n",
       "      <td>400</td>\n",
       "      <td>0</td>\n",
       "      <td>0</td>\n",
       "      <td>3000</td>\n",
       "      <td>0</td>\n",
       "      <td>flexible</td>\n",
       "    </tr>\n",
       "    <tr>\n",
       "      <th>5553</th>\n",
       "      <td>9907907</td>\n",
       "      <td>https://www.airbnb.com/rooms/9907907</td>\n",
       "      <td>Large double room in Bondi</td>\n",
       "      <td>A bright large double room is available in a b...</td>\n",
       "      <td>No data found</td>\n",
       "      <td>The flat is exactly half way between the shops...</td>\n",
       "      <td>Bondi Beach, NSW, Australia</td>\n",
       "      <td>Bondi</td>\n",
       "      <td>Waverley</td>\n",
       "      <td>Sydney</td>\n",
       "      <td>Australia</td>\n",
       "      <td>AU</td>\n",
       "      <td>151.26542, -33.89298</td>\n",
       "      <td>60</td>\n",
       "      <td>0</td>\n",
       "      <td>0</td>\n",
       "      <td>0</td>\n",
       "      <td>50</td>\n",
       "      <td>moderate</td>\n",
       "    </tr>\n",
       "    <tr>\n",
       "      <th>5554</th>\n",
       "      <td>9936016</td>\n",
       "      <td>https://www.airbnb.com/rooms/9936016</td>\n",
       "      <td>Alugo Apartamento na Tijuca</td>\n",
       "      <td>Apartamento amplo que acomoda 6 pessoas. Um qu...</td>\n",
       "      <td>No data found</td>\n",
       "      <td>No data found</td>\n",
       "      <td>Rio de Janeiro, Rio de Janeiro, Brazil</td>\n",
       "      <td>Lapa</td>\n",
       "      <td>Centro</td>\n",
       "      <td>Rio De Janeiro</td>\n",
       "      <td>Brazil</td>\n",
       "      <td>BR</td>\n",
       "      <td>-43.173761316748546, -22.90833634089244</td>\n",
       "      <td>750</td>\n",
       "      <td>0</td>\n",
       "      <td>0</td>\n",
       "      <td>0</td>\n",
       "      <td>0</td>\n",
       "      <td>flexible</td>\n",
       "    </tr>\n",
       "  </tbody>\n",
       "</table>\n",
       "<p>5555 rows × 19 columns</p>\n",
       "</div>"
      ],
      "text/plain": [
       "            id                            listing_url  \\\n",
       "0      1003530   https://www.airbnb.com/rooms/1003530   \n",
       "1     10133554  https://www.airbnb.com/rooms/10133554   \n",
       "2     10059872  https://www.airbnb.com/rooms/10059872   \n",
       "3     10084023  https://www.airbnb.com/rooms/10084023   \n",
       "4     10091713  https://www.airbnb.com/rooms/10091713   \n",
       "...        ...                                    ...   \n",
       "5550   9985696   https://www.airbnb.com/rooms/9985696   \n",
       "5551   9993190   https://www.airbnb.com/rooms/9993190   \n",
       "5552   9887054   https://www.airbnb.com/rooms/9887054   \n",
       "5553   9907907   https://www.airbnb.com/rooms/9907907   \n",
       "5554   9936016   https://www.airbnb.com/rooms/9936016   \n",
       "\n",
       "                                                   name  \\\n",
       "0                   New York City - Upper West Side Apt   \n",
       "1                   Double and triple rooms Blue mosque   \n",
       "2                    Soho Cozy, Spacious and Convenient   \n",
       "3                     City center private room with bed   \n",
       "4      Surry Hills Studio - Your Perfect Base in Sydney   \n",
       "...                                                 ...   \n",
       "5550                                    Kadıköy-Altıyol   \n",
       "5551  Just Steps from the Ocean at Premier Platinum ...   \n",
       "5552                Quarry Bay fully furnished studio C   \n",
       "5553                         Large double room in Bondi   \n",
       "5554                        Alugo Apartamento na Tijuca   \n",
       "\n",
       "                                            description  \\\n",
       "0     Murphy bed, optional second bedroom available....   \n",
       "1     We are on the central city  Blue mosque 5 minu...   \n",
       "2     Clean, fully furnish, Spacious 1 bedroom flat ...   \n",
       "3     House is located 5mins walk from Sham Shui Po ...   \n",
       "4     This spacious, light filled studio has everyth...   \n",
       "...                                                 ...   \n",
       "5550  Kadıköy merkezde 2+1 dairem vardır.Çok kalabal...   \n",
       "5551  Relax Hawaiian Style in Gated Community on Oce...   \n",
       "5552   Newly renovated studio flat with full furniture.   \n",
       "5553  A bright large double room is available in a b...   \n",
       "5554  Apartamento amplo que acomoda 6 pessoas. Um qu...   \n",
       "\n",
       "                                  neighborhood_overview  \\\n",
       "0     Great neighborhood - many terrific restaurants...   \n",
       "1     Cankurtaran mahallesi akbıyık caddesi no 22 Su...   \n",
       "2                                         No data found   \n",
       "3     Cheapest food, electronic device, clothing and...   \n",
       "4     Surry Hills is a vibrant eclectic community an...   \n",
       "...                                                 ...   \n",
       "5550                                      No data found   \n",
       "5551  Location: Located at the south end of Lahaina ...   \n",
       "5552                                      No data found   \n",
       "5553                                      No data found   \n",
       "5554                                      No data found   \n",
       "\n",
       "                                                transit  \\\n",
       "0     Conveniently located near 1, 2, 3, B & C subwa...   \n",
       "1      Tram 5 minutes  metro 10 minutes  Bus 10 minutes   \n",
       "2                                         No data found   \n",
       "3     Close to 3 different MTR Station, Sham shui Po...   \n",
       "4     Travel Card 'Opal' travel cards work on all Sy...   \n",
       "...                                                 ...   \n",
       "5550                                      No data found   \n",
       "5551  You can walk to most attractions within Lahain...   \n",
       "5552                                      No data found   \n",
       "5553  The flat is exactly half way between the shops...   \n",
       "5554                                      No data found   \n",
       "\n",
       "                                      street                      suburb  \\\n",
       "0                New York, NY, United States                   Manhattan   \n",
       "1                   Fatih , İstanbul, Turkey                       Fatih   \n",
       "2     Hong Kong, Hong Kong Island, Hong Kong  Central & Western District   \n",
       "3                  Hong Kong , 九龍, Hong Kong       Sham Shui Po District   \n",
       "4                Surry Hills, NSW, Australia                Darlinghurst   \n",
       "...                                      ...                         ...   \n",
       "5550               Kadıköy, İstanbul, Turkey                        Moda   \n",
       "5551              Lahaina, HI, United States                     Lahaina   \n",
       "5552  Hong Kong, Hong Kong Island, Hong Kong                  Quarry Bay   \n",
       "5553             Bondi Beach, NSW, Australia                       Bondi   \n",
       "5554  Rio de Janeiro, Rio de Janeiro, Brazil                        Lapa   \n",
       "\n",
       "        government_area          market        country country_code  \\\n",
       "0       Upper West Side        New York  United States           US   \n",
       "1                 Fatih        Istanbul         Turkey           TR   \n",
       "2     Central & Western       Hong Kong      Hong Kong           HK   \n",
       "3          Sham Shui Po       Hong Kong      Hong Kong           HK   \n",
       "4                Sydney          Sydney      Australia           AU   \n",
       "...                 ...             ...            ...          ...   \n",
       "5550            Kadikoy        Istanbul         Turkey           TR   \n",
       "5551            Lahaina            Maui  United States           US   \n",
       "5552            Eastern       Hong Kong      Hong Kong           HK   \n",
       "5553           Waverley          Sydney      Australia           AU   \n",
       "5554             Centro  Rio De Janeiro         Brazil           BR   \n",
       "\n",
       "                                  coordinates  price  weekly_price  \\\n",
       "0                         -73.96523, 40.79962    135             0   \n",
       "1                           28.98009, 41.0062    121             0   \n",
       "2                         114.15027, 22.28158    699          5000   \n",
       "3                           114.1669, 22.3314    181          1350   \n",
       "4                        151.21554, -33.88029    181             0   \n",
       "...                                       ...    ...           ...   \n",
       "5550                       29.03079, 40.98563    501             0   \n",
       "5551                     -156.66752, 20.85894    220             0   \n",
       "5552                      114.20722, 22.29157    400             0   \n",
       "5553                     151.26542, -33.89298     60             0   \n",
       "5554  -43.173761316748546, -22.90833634089244    750             0   \n",
       "\n",
       "      monthly_price  security_deposit  cleaning_fee  \\\n",
       "0                 0                 0           135   \n",
       "1                 0                 0             0   \n",
       "2                 0                 0             0   \n",
       "3              5000                 0            50   \n",
       "4                 0               300            50   \n",
       "...             ...               ...           ...   \n",
       "5550              0                 0             0   \n",
       "5551              0               200           315   \n",
       "5552              0              3000             0   \n",
       "5553              0                 0            50   \n",
       "5554              0                 0             0   \n",
       "\n",
       "              cancellation_policy  \n",
       "0     strict_14_with_grace_period  \n",
       "1                        moderate  \n",
       "2                        flexible  \n",
       "3     strict_14_with_grace_period  \n",
       "4     strict_14_with_grace_period  \n",
       "...                           ...  \n",
       "5550                     flexible  \n",
       "5551  strict_14_with_grace_period  \n",
       "5552                     flexible  \n",
       "5553                     moderate  \n",
       "5554                     flexible  \n",
       "\n",
       "[5555 rows x 19 columns]"
      ]
     },
     "execution_count": 7,
     "metadata": {},
     "output_type": "execute_result"
    }
   ],
   "source": [
    "Hotel_info\n"
   ]
  },
  {
   "cell_type": "code",
   "execution_count": 8,
   "metadata": {},
   "outputs": [],
   "source": [
    "# Extract Room data and converting into DF\n",
    "\n",
    "room_data=[]\n",
    "\n",
    "for i in airbnb_data:\n",
    "    data=dict(\n",
    "        id=i['_id'],\n",
    "        images=i['images']['picture_url'],\n",
    "        property_type=i['property_type'],\n",
    "        room_type=i['room_type'],\n",
    "        bed_type=i['bed_type'],\n",
    "        minimum_nights=i['minimum_nights'],\n",
    "        maximum_nights=i['maximum_nights'],\n",
    "        accommodates=i['accommodates'],\n",
    "        bedrooms=i.get('bedrooms'),\n",
    "        beds=i.get('beds'),\n",
    "        bathrooms=i.get('bathrooms'),\n",
    "        amenities=i['amenities'],\n",
    "        guests_included=i['guests_included'],\n",
    "        availability_30=i['availability']['availability_30'],\n",
    "        availability_60=i['availability']['availability_60'],\n",
    "        availability_90=i['availability']['availability_90'],\n",
    "        availability_365=i['availability']['availability_365']\n",
    "        )\n",
    "    room_data.append(data)\n",
    "\n",
    "Room_info=pd.DataFrame(room_data)"
   ]
  },
  {
   "cell_type": "code",
   "execution_count": 9,
   "metadata": {},
   "outputs": [
    {
     "name": "stdout",
     "output_type": "stream",
     "text": [
      "<class 'pandas.core.frame.DataFrame'>\n",
      "RangeIndex: 5555 entries, 0 to 5554\n",
      "Data columns (total 17 columns):\n",
      " #   Column            Non-Null Count  Dtype  \n",
      "---  ------            --------------  -----  \n",
      " 0   id                5555 non-null   object \n",
      " 1   images            5555 non-null   object \n",
      " 2   property_type     5555 non-null   object \n",
      " 3   room_type         5555 non-null   object \n",
      " 4   bed_type          5555 non-null   object \n",
      " 5   minimum_nights    5555 non-null   object \n",
      " 6   maximum_nights    5555 non-null   object \n",
      " 7   accommodates      5555 non-null   int64  \n",
      " 8   bedrooms          5550 non-null   float64\n",
      " 9   beds              5542 non-null   float64\n",
      " 10  bathrooms         5545 non-null   float64\n",
      " 11  amenities         5555 non-null   object \n",
      " 12  guests_included   5555 non-null   float64\n",
      " 13  availability_30   5555 non-null   int64  \n",
      " 14  availability_60   5555 non-null   int64  \n",
      " 15  availability_90   5555 non-null   int64  \n",
      " 16  availability_365  5555 non-null   int64  \n",
      "dtypes: float64(4), int64(5), object(8)\n",
      "memory usage: 737.9+ KB\n"
     ]
    }
   ],
   "source": [
    "# Checking null values & Data types\n",
    "\n",
    "Room_info.info()"
   ]
  },
  {
   "cell_type": "markdown",
   "metadata": {},
   "source": [
    " Data preprocessing for Room_info"
   ]
  },
  {
   "cell_type": "code",
   "execution_count": 10,
   "metadata": {},
   "outputs": [],
   "source": [
    "# Joining Amenities \n",
    "\n",
    "Room_info['amenities'] = [', '.join(map(str, x)) if isinstance(x, list) else '' for x in Room_info['amenities']]\n"
   ]
  },
  {
   "cell_type": "code",
   "execution_count": 11,
   "metadata": {},
   "outputs": [
    {
     "name": "stdout",
     "output_type": "stream",
     "text": [
      "Columns with empty strings: ['amenities']\n"
     ]
    }
   ],
   "source": [
    "# Checking Empty Values in columns\n",
    "\n",
    "columns_with_empty_strings = Room_info.eq('').any()\n",
    "columns_with_empty_strings = columns_with_empty_strings[columns_with_empty_strings].index\n",
    "print(\"Columns with empty strings:\", columns_with_empty_strings.tolist())"
   ]
  },
  {
   "cell_type": "code",
   "execution_count": 12,
   "metadata": {},
   "outputs": [],
   "source": [
    "# Filling Missing/Null Values\n",
    "\n",
    "Room_info[['bedrooms','beds','bathrooms']]=Room_info[['bedrooms','beds','bathrooms']].fillna(0)\n",
    "Room_info.replace({\"amenities\":{'':'No data found'}},inplace=True)\n",
    "\n",
    "# Changing Valid Data types\n",
    "\n",
    "Room_info[['bedrooms','beds','bathrooms','guests_included']]=Room_info[['bedrooms','beds','bathrooms','guests_included']].astype(dtype='int64')\n"
   ]
  },
  {
   "cell_type": "code",
   "execution_count": 13,
   "metadata": {},
   "outputs": [
    {
     "data": {
      "text/plain": [
       "array(['Apartment', 'Bed and breakfast', 'Guesthouse', 'Hostel',\n",
       "       'Serviced apartment', 'Loft', 'House', 'Condominium', 'Treehouse',\n",
       "       'Guest suite', 'Bungalow', 'Townhouse', 'Villa', 'Cabin', 'Other',\n",
       "       'Farm stay', 'Chalet', 'Boutique hotel', 'Cottage', 'Boat',\n",
       "       'Earth house', 'Aparthotel', 'Resort', 'Tiny house',\n",
       "       'Nature lodge', 'Hotel', 'Camper/RV', 'Casa particular (Cuba)',\n",
       "       'Barn', 'Hut', 'Heritage hotel (India)', 'Pension (South Korea)',\n",
       "       'Campsite', 'Castle', 'Houseboat', 'Train'], dtype=object)"
      ]
     },
     "execution_count": 13,
     "metadata": {},
     "output_type": "execute_result"
    }
   ],
   "source": [
    "Room_info['property_type'].unique()\n"
   ]
  },
  {
   "cell_type": "code",
   "execution_count": 14,
   "metadata": {},
   "outputs": [
    {
     "data": {
      "text/plain": [
       "36"
      ]
     },
     "execution_count": 14,
     "metadata": {},
     "output_type": "execute_result"
    }
   ],
   "source": [
    "Room_info['property_type'] = Room_info['property_type'].str.lower()\n",
    "len(Room_info['property_type'].unique())"
   ]
  },
  {
   "cell_type": "code",
   "execution_count": 15,
   "metadata": {},
   "outputs": [
    {
     "data": {
      "text/plain": [
       "22"
      ]
     },
     "execution_count": 15,
     "metadata": {},
     "output_type": "execute_result"
    }
   ],
   "source": [
    "mappings = {'apartment':'apartment', \n",
    "            'bed and breakfast':'bed and breakfast', \n",
    "            'guesthouse':'guesthouse', \n",
    "            'hostel':'hostel',\n",
    "            'serviced apartment':'apartment', \n",
    "            'loft':'hostel', \n",
    "            'house':'guesthouse', \n",
    "            'condominium':'apartment', \n",
    "            'treehouse':'treehouse',\n",
    "            'guest suite':'guest suite', \n",
    "            'bungalow':'bungalow', \n",
    "            'townhouse':'house', \n",
    "            'villa':'villa', \n",
    "            'cabin':'cabin', \n",
    "            'other':'other',\n",
    "            'farm stay':'farm stay', \n",
    "            'chalet':'cabin', \n",
    "            'boutique hotel':'hotel', \n",
    "            'cottage':'house', \n",
    "            'boat':'boat house',\n",
    "            'earth house':'house', \n",
    "            'aparthotel':'apartment', \n",
    "            'resort':'resort', \n",
    "            'tiny house':'house',\n",
    "            'nature lodge':'camp', \n",
    "            'hotel':'hotel', \n",
    "            'camper/rv':'camp', \n",
    "            'casa particular (cuba)':'casa particular (cuba)',\n",
    "            'barn':'hut', \n",
    "            'hut':'hut', \n",
    "            'heritage hotel (india)':'heritage hotel (india)', \n",
    "            'pension (south korea)':'pension (south korea)',\n",
    "            'campsite':'camp', \n",
    "            'castle':'castle', \n",
    "            'houseboat':'boat house', \n",
    "            'train':'train stay'\n",
    "            }\n",
    "\n",
    "Room_info['property_type'] = Room_info['property_type'].replace(mappings)\n",
    "len(Room_info['property_type'].unique())\n"
   ]
  },
  {
   "cell_type": "code",
   "execution_count": 16,
   "metadata": {},
   "outputs": [
    {
     "data": {
      "text/html": [
       "<div>\n",
       "<style scoped>\n",
       "    .dataframe tbody tr th:only-of-type {\n",
       "        vertical-align: middle;\n",
       "    }\n",
       "\n",
       "    .dataframe tbody tr th {\n",
       "        vertical-align: top;\n",
       "    }\n",
       "\n",
       "    .dataframe thead th {\n",
       "        text-align: right;\n",
       "    }\n",
       "</style>\n",
       "<table border=\"1\" class=\"dataframe\">\n",
       "  <thead>\n",
       "    <tr style=\"text-align: right;\">\n",
       "      <th></th>\n",
       "      <th>id</th>\n",
       "      <th>images</th>\n",
       "      <th>property_type</th>\n",
       "      <th>room_type</th>\n",
       "      <th>bed_type</th>\n",
       "      <th>minimum_nights</th>\n",
       "      <th>maximum_nights</th>\n",
       "      <th>accommodates</th>\n",
       "      <th>bedrooms</th>\n",
       "      <th>beds</th>\n",
       "      <th>bathrooms</th>\n",
       "      <th>amenities</th>\n",
       "      <th>guests_included</th>\n",
       "      <th>availability_30</th>\n",
       "      <th>availability_60</th>\n",
       "      <th>availability_90</th>\n",
       "      <th>availability_365</th>\n",
       "    </tr>\n",
       "  </thead>\n",
       "  <tbody>\n",
       "    <tr>\n",
       "      <th>0</th>\n",
       "      <td>1003530</td>\n",
       "      <td>https://a0.muscache.com/im/pictures/15074036/a...</td>\n",
       "      <td>apartment</td>\n",
       "      <td>Private room</td>\n",
       "      <td>Real Bed</td>\n",
       "      <td>12</td>\n",
       "      <td>360</td>\n",
       "      <td>2</td>\n",
       "      <td>1</td>\n",
       "      <td>1</td>\n",
       "      <td>1</td>\n",
       "      <td>Internet, Wifi, Air conditioning, Kitchen, Ele...</td>\n",
       "      <td>1</td>\n",
       "      <td>0</td>\n",
       "      <td>0</td>\n",
       "      <td>0</td>\n",
       "      <td>93</td>\n",
       "    </tr>\n",
       "    <tr>\n",
       "      <th>1</th>\n",
       "      <td>10133554</td>\n",
       "      <td>https://a0.muscache.com/im/pictures/68de30b5-e...</td>\n",
       "      <td>bed and breakfast</td>\n",
       "      <td>Private room</td>\n",
       "      <td>Real Bed</td>\n",
       "      <td>1</td>\n",
       "      <td>1125</td>\n",
       "      <td>3</td>\n",
       "      <td>1</td>\n",
       "      <td>2</td>\n",
       "      <td>1</td>\n",
       "      <td>Internet, Wifi, Air conditioning, Free parking...</td>\n",
       "      <td>1</td>\n",
       "      <td>30</td>\n",
       "      <td>60</td>\n",
       "      <td>90</td>\n",
       "      <td>365</td>\n",
       "    </tr>\n",
       "    <tr>\n",
       "      <th>2</th>\n",
       "      <td>10059872</td>\n",
       "      <td>https://a0.muscache.com/im/pictures/4533a1dc-6...</td>\n",
       "      <td>apartment</td>\n",
       "      <td>Entire home/apt</td>\n",
       "      <td>Real Bed</td>\n",
       "      <td>4</td>\n",
       "      <td>20</td>\n",
       "      <td>3</td>\n",
       "      <td>1</td>\n",
       "      <td>2</td>\n",
       "      <td>1</td>\n",
       "      <td>Air conditioning, Kitchen, Smoking allowed, Do...</td>\n",
       "      <td>1</td>\n",
       "      <td>0</td>\n",
       "      <td>0</td>\n",
       "      <td>0</td>\n",
       "      <td>0</td>\n",
       "    </tr>\n",
       "    <tr>\n",
       "      <th>3</th>\n",
       "      <td>10084023</td>\n",
       "      <td>https://a0.muscache.com/im/pictures/e6275515-7...</td>\n",
       "      <td>guesthouse</td>\n",
       "      <td>Private room</td>\n",
       "      <td>Futon</td>\n",
       "      <td>1</td>\n",
       "      <td>500</td>\n",
       "      <td>1</td>\n",
       "      <td>1</td>\n",
       "      <td>1</td>\n",
       "      <td>1</td>\n",
       "      <td>TV, Wifi, Air conditioning, Kitchen, Elevator,...</td>\n",
       "      <td>1</td>\n",
       "      <td>14</td>\n",
       "      <td>24</td>\n",
       "      <td>40</td>\n",
       "      <td>220</td>\n",
       "    </tr>\n",
       "    <tr>\n",
       "      <th>4</th>\n",
       "      <td>10091713</td>\n",
       "      <td>https://a0.muscache.com/im/pictures/f8eaba4e-d...</td>\n",
       "      <td>apartment</td>\n",
       "      <td>Entire home/apt</td>\n",
       "      <td>Real Bed</td>\n",
       "      <td>10</td>\n",
       "      <td>21</td>\n",
       "      <td>2</td>\n",
       "      <td>0</td>\n",
       "      <td>1</td>\n",
       "      <td>1</td>\n",
       "      <td>TV, Wifi, Kitchen, Elevator, Heating, Washer, ...</td>\n",
       "      <td>1</td>\n",
       "      <td>0</td>\n",
       "      <td>0</td>\n",
       "      <td>0</td>\n",
       "      <td>0</td>\n",
       "    </tr>\n",
       "    <tr>\n",
       "      <th>...</th>\n",
       "      <td>...</td>\n",
       "      <td>...</td>\n",
       "      <td>...</td>\n",
       "      <td>...</td>\n",
       "      <td>...</td>\n",
       "      <td>...</td>\n",
       "      <td>...</td>\n",
       "      <td>...</td>\n",
       "      <td>...</td>\n",
       "      <td>...</td>\n",
       "      <td>...</td>\n",
       "      <td>...</td>\n",
       "      <td>...</td>\n",
       "      <td>...</td>\n",
       "      <td>...</td>\n",
       "      <td>...</td>\n",
       "      <td>...</td>\n",
       "    </tr>\n",
       "    <tr>\n",
       "      <th>5550</th>\n",
       "      <td>9985696</td>\n",
       "      <td>https://a0.muscache.com/im/pictures/e40d18b2-1...</td>\n",
       "      <td>guesthouse</td>\n",
       "      <td>Entire home/apt</td>\n",
       "      <td>Real Bed</td>\n",
       "      <td>1</td>\n",
       "      <td>1125</td>\n",
       "      <td>2</td>\n",
       "      <td>2</td>\n",
       "      <td>3</td>\n",
       "      <td>1</td>\n",
       "      <td>TV, Cable TV, Internet, Wifi, Kitchen, Buzzer/...</td>\n",
       "      <td>1</td>\n",
       "      <td>30</td>\n",
       "      <td>60</td>\n",
       "      <td>90</td>\n",
       "      <td>365</td>\n",
       "    </tr>\n",
       "    <tr>\n",
       "      <th>5551</th>\n",
       "      <td>9993190</td>\n",
       "      <td>https://a0.muscache.com/im/pictures/be1978c5-6...</td>\n",
       "      <td>house</td>\n",
       "      <td>Entire home/apt</td>\n",
       "      <td>Real Bed</td>\n",
       "      <td>3</td>\n",
       "      <td>365</td>\n",
       "      <td>6</td>\n",
       "      <td>2</td>\n",
       "      <td>4</td>\n",
       "      <td>2</td>\n",
       "      <td>TV, Wifi, Air conditioning, Pool, Kitchen, Fre...</td>\n",
       "      <td>1</td>\n",
       "      <td>0</td>\n",
       "      <td>8</td>\n",
       "      <td>31</td>\n",
       "      <td>258</td>\n",
       "    </tr>\n",
       "    <tr>\n",
       "      <th>5552</th>\n",
       "      <td>9887054</td>\n",
       "      <td>https://a0.muscache.com/im/pictures/a39e3f36-9...</td>\n",
       "      <td>apartment</td>\n",
       "      <td>Private room</td>\n",
       "      <td>Real Bed</td>\n",
       "      <td>3</td>\n",
       "      <td>1125</td>\n",
       "      <td>1</td>\n",
       "      <td>1</td>\n",
       "      <td>1</td>\n",
       "      <td>1</td>\n",
       "      <td>TV, Wifi, Air conditioning, Kitchen, Elevator,...</td>\n",
       "      <td>2</td>\n",
       "      <td>18</td>\n",
       "      <td>48</td>\n",
       "      <td>78</td>\n",
       "      <td>353</td>\n",
       "    </tr>\n",
       "    <tr>\n",
       "      <th>5553</th>\n",
       "      <td>9907907</td>\n",
       "      <td>https://a0.muscache.com/im/pictures/17a8857a-6...</td>\n",
       "      <td>apartment</td>\n",
       "      <td>Private room</td>\n",
       "      <td>Real Bed</td>\n",
       "      <td>3</td>\n",
       "      <td>1125</td>\n",
       "      <td>2</td>\n",
       "      <td>1</td>\n",
       "      <td>1</td>\n",
       "      <td>1</td>\n",
       "      <td>TV, Internet, Wifi, Kitchen, Washer, Dryer, Sm...</td>\n",
       "      <td>2</td>\n",
       "      <td>0</td>\n",
       "      <td>0</td>\n",
       "      <td>0</td>\n",
       "      <td>0</td>\n",
       "    </tr>\n",
       "    <tr>\n",
       "      <th>5554</th>\n",
       "      <td>9936016</td>\n",
       "      <td>https://a0.muscache.com/im/pictures/9d939095-f...</td>\n",
       "      <td>apartment</td>\n",
       "      <td>Entire home/apt</td>\n",
       "      <td>Real Bed</td>\n",
       "      <td>1</td>\n",
       "      <td>1125</td>\n",
       "      <td>6</td>\n",
       "      <td>1</td>\n",
       "      <td>2</td>\n",
       "      <td>2</td>\n",
       "      <td>TV, Cable TV, Internet, Wifi, Air conditioning...</td>\n",
       "      <td>1</td>\n",
       "      <td>0</td>\n",
       "      <td>0</td>\n",
       "      <td>0</td>\n",
       "      <td>0</td>\n",
       "    </tr>\n",
       "  </tbody>\n",
       "</table>\n",
       "<p>5555 rows × 17 columns</p>\n",
       "</div>"
      ],
      "text/plain": [
       "            id                                             images  \\\n",
       "0      1003530  https://a0.muscache.com/im/pictures/15074036/a...   \n",
       "1     10133554  https://a0.muscache.com/im/pictures/68de30b5-e...   \n",
       "2     10059872  https://a0.muscache.com/im/pictures/4533a1dc-6...   \n",
       "3     10084023  https://a0.muscache.com/im/pictures/e6275515-7...   \n",
       "4     10091713  https://a0.muscache.com/im/pictures/f8eaba4e-d...   \n",
       "...        ...                                                ...   \n",
       "5550   9985696  https://a0.muscache.com/im/pictures/e40d18b2-1...   \n",
       "5551   9993190  https://a0.muscache.com/im/pictures/be1978c5-6...   \n",
       "5552   9887054  https://a0.muscache.com/im/pictures/a39e3f36-9...   \n",
       "5553   9907907  https://a0.muscache.com/im/pictures/17a8857a-6...   \n",
       "5554   9936016  https://a0.muscache.com/im/pictures/9d939095-f...   \n",
       "\n",
       "          property_type        room_type  bed_type minimum_nights  \\\n",
       "0             apartment     Private room  Real Bed             12   \n",
       "1     bed and breakfast     Private room  Real Bed              1   \n",
       "2             apartment  Entire home/apt  Real Bed              4   \n",
       "3            guesthouse     Private room     Futon              1   \n",
       "4             apartment  Entire home/apt  Real Bed             10   \n",
       "...                 ...              ...       ...            ...   \n",
       "5550         guesthouse  Entire home/apt  Real Bed              1   \n",
       "5551              house  Entire home/apt  Real Bed              3   \n",
       "5552          apartment     Private room  Real Bed              3   \n",
       "5553          apartment     Private room  Real Bed              3   \n",
       "5554          apartment  Entire home/apt  Real Bed              1   \n",
       "\n",
       "     maximum_nights  accommodates  bedrooms  beds  bathrooms  \\\n",
       "0               360             2         1     1          1   \n",
       "1              1125             3         1     2          1   \n",
       "2                20             3         1     2          1   \n",
       "3               500             1         1     1          1   \n",
       "4                21             2         0     1          1   \n",
       "...             ...           ...       ...   ...        ...   \n",
       "5550           1125             2         2     3          1   \n",
       "5551            365             6         2     4          2   \n",
       "5552           1125             1         1     1          1   \n",
       "5553           1125             2         1     1          1   \n",
       "5554           1125             6         1     2          2   \n",
       "\n",
       "                                              amenities  guests_included  \\\n",
       "0     Internet, Wifi, Air conditioning, Kitchen, Ele...                1   \n",
       "1     Internet, Wifi, Air conditioning, Free parking...                1   \n",
       "2     Air conditioning, Kitchen, Smoking allowed, Do...                1   \n",
       "3     TV, Wifi, Air conditioning, Kitchen, Elevator,...                1   \n",
       "4     TV, Wifi, Kitchen, Elevator, Heating, Washer, ...                1   \n",
       "...                                                 ...              ...   \n",
       "5550  TV, Cable TV, Internet, Wifi, Kitchen, Buzzer/...                1   \n",
       "5551  TV, Wifi, Air conditioning, Pool, Kitchen, Fre...                1   \n",
       "5552  TV, Wifi, Air conditioning, Kitchen, Elevator,...                2   \n",
       "5553  TV, Internet, Wifi, Kitchen, Washer, Dryer, Sm...                2   \n",
       "5554  TV, Cable TV, Internet, Wifi, Air conditioning...                1   \n",
       "\n",
       "      availability_30  availability_60  availability_90  availability_365  \n",
       "0                   0                0                0                93  \n",
       "1                  30               60               90               365  \n",
       "2                   0                0                0                 0  \n",
       "3                  14               24               40               220  \n",
       "4                   0                0                0                 0  \n",
       "...               ...              ...              ...               ...  \n",
       "5550               30               60               90               365  \n",
       "5551                0                8               31               258  \n",
       "5552               18               48               78               353  \n",
       "5553                0                0                0                 0  \n",
       "5554                0                0                0                 0  \n",
       "\n",
       "[5555 rows x 17 columns]"
      ]
     },
     "execution_count": 16,
     "metadata": {},
     "output_type": "execute_result"
    }
   ],
   "source": [
    "Room_info"
   ]
  },
  {
   "cell_type": "code",
   "execution_count": 17,
   "metadata": {},
   "outputs": [],
   "source": [
    "# Extract Host data and converting into DF\n",
    "\n",
    "host_data=[]\n",
    "\n",
    "for i in airbnb_data:\n",
    "    data=dict(\n",
    "        id=i['_id'],\n",
    "        host_id=i['host']['host_id'],\n",
    "        host_url=i['host']['host_url'],\n",
    "        host_name=i['host']['host_name'],\n",
    "        host_location=i['host']['host_location'],\n",
    "        host_about=i['host']['host_about'],\n",
    "        host_picture_url=i['host']['host_picture_url'],\n",
    "        host_neighbourhood=i['host']['host_neighbourhood'],\n",
    "        host_response_rate=i['host'].get('host_response_rate'),\n",
    "        host_total_listings=i['host']['host_total_listings_count'],\n",
    "        host_verifications=i['host']['host_verifications']\n",
    "        )\n",
    "    host_data.append(data)\n",
    "\n",
    "Host_info=pd.DataFrame(host_data)"
   ]
  },
  {
   "cell_type": "code",
   "execution_count": 18,
   "metadata": {},
   "outputs": [
    {
     "name": "stdout",
     "output_type": "stream",
     "text": [
      "<class 'pandas.core.frame.DataFrame'>\n",
      "RangeIndex: 5555 entries, 0 to 5554\n",
      "Data columns (total 11 columns):\n",
      " #   Column               Non-Null Count  Dtype  \n",
      "---  ------               --------------  -----  \n",
      " 0   id                   5555 non-null   object \n",
      " 1   host_id              5555 non-null   object \n",
      " 2   host_url             5555 non-null   object \n",
      " 3   host_name            5555 non-null   object \n",
      " 4   host_location        5555 non-null   object \n",
      " 5   host_about           5555 non-null   object \n",
      " 6   host_picture_url     5555 non-null   object \n",
      " 7   host_neighbourhood   5555 non-null   object \n",
      " 8   host_response_rate   4167 non-null   float64\n",
      " 9   host_total_listings  5555 non-null   int64  \n",
      " 10  host_verifications   5555 non-null   object \n",
      "dtypes: float64(1), int64(1), object(9)\n",
      "memory usage: 477.5+ KB\n"
     ]
    }
   ],
   "source": [
    "# Checking null values & Data types\n",
    "\n",
    "Host_info.info()"
   ]
  },
  {
   "cell_type": "markdown",
   "metadata": {},
   "source": [
    "Data preprocessing for Host_info"
   ]
  },
  {
   "cell_type": "code",
   "execution_count": 19,
   "metadata": {},
   "outputs": [],
   "source": [
    "# Joining host_verifications\n",
    "\n",
    "Host_info['host_verifications'] = [', '.join(map(str, x)) if isinstance(x, list) else '' for x in Host_info['host_verifications']]\n"
   ]
  },
  {
   "cell_type": "code",
   "execution_count": 20,
   "metadata": {},
   "outputs": [
    {
     "name": "stdout",
     "output_type": "stream",
     "text": [
      "Columns with empty strings: ['host_location', 'host_about', 'host_neighbourhood', 'host_verifications']\n"
     ]
    }
   ],
   "source": [
    "# Checking empty values in columns\n",
    "\n",
    "columns_with_empty_strings = Host_info.eq('').any()\n",
    "columns_with_empty_strings = columns_with_empty_strings[columns_with_empty_strings].index\n",
    "print(\"Columns with empty strings:\", columns_with_empty_strings.tolist())"
   ]
  },
  {
   "cell_type": "code",
   "execution_count": 21,
   "metadata": {},
   "outputs": [],
   "source": [
    "\n",
    "# Filling Missing/Null Values & Changing Valid Data types\n",
    "\n",
    "Host_info['host_response_rate']=Host_info['host_response_rate'].fillna(0).astype(dtype='int64')\n",
    "Host_info.replace({\"host_location\":{'':'No data found'},\n",
    "                   \"host_about\":{'':'No data found'},\n",
    "                   \"host_neighbourhood\":{'':'No data found'},\n",
    "                   \"host_verifications\":{'':'No dat found'}},inplace=True)\n"
   ]
  },
  {
   "cell_type": "code",
   "execution_count": 22,
   "metadata": {},
   "outputs": [
    {
     "data": {
      "text/html": [
       "<div>\n",
       "<style scoped>\n",
       "    .dataframe tbody tr th:only-of-type {\n",
       "        vertical-align: middle;\n",
       "    }\n",
       "\n",
       "    .dataframe tbody tr th {\n",
       "        vertical-align: top;\n",
       "    }\n",
       "\n",
       "    .dataframe thead th {\n",
       "        text-align: right;\n",
       "    }\n",
       "</style>\n",
       "<table border=\"1\" class=\"dataframe\">\n",
       "  <thead>\n",
       "    <tr style=\"text-align: right;\">\n",
       "      <th></th>\n",
       "      <th>id</th>\n",
       "      <th>host_id</th>\n",
       "      <th>host_url</th>\n",
       "      <th>host_name</th>\n",
       "      <th>host_location</th>\n",
       "      <th>host_about</th>\n",
       "      <th>host_picture_url</th>\n",
       "      <th>host_neighbourhood</th>\n",
       "      <th>host_response_rate</th>\n",
       "      <th>host_total_listings</th>\n",
       "      <th>host_verifications</th>\n",
       "    </tr>\n",
       "  </thead>\n",
       "  <tbody>\n",
       "    <tr>\n",
       "      <th>0</th>\n",
       "      <td>1003530</td>\n",
       "      <td>454250</td>\n",
       "      <td>https://www.airbnb.com/users/show/454250</td>\n",
       "      <td>Greta</td>\n",
       "      <td>New York, New York, United States</td>\n",
       "      <td>By now I have lived longer in the city than th...</td>\n",
       "      <td>https://a0.muscache.com/im/pictures/f1022be4-e...</td>\n",
       "      <td>No data found</td>\n",
       "      <td>100</td>\n",
       "      <td>3</td>\n",
       "      <td>email, phone, reviews, jumio, offline_governme...</td>\n",
       "    </tr>\n",
       "    <tr>\n",
       "      <th>1</th>\n",
       "      <td>10133554</td>\n",
       "      <td>52004703</td>\n",
       "      <td>https://www.airbnb.com/users/show/52004703</td>\n",
       "      <td>Mehmet Emin</td>\n",
       "      <td>Istanbul, İstanbul, Turkey</td>\n",
       "      <td>No data found</td>\n",
       "      <td>https://a0.muscache.com/im/pictures/user/4cb6b...</td>\n",
       "      <td>No data found</td>\n",
       "      <td>100</td>\n",
       "      <td>2</td>\n",
       "      <td>email, phone, facebook, reviews, jumio, offlin...</td>\n",
       "    </tr>\n",
       "    <tr>\n",
       "      <th>2</th>\n",
       "      <td>10059872</td>\n",
       "      <td>51624384</td>\n",
       "      <td>https://www.airbnb.com/users/show/51624384</td>\n",
       "      <td>Giovanni</td>\n",
       "      <td>Hong Kong, Hong Kong</td>\n",
       "      <td>No data found</td>\n",
       "      <td>https://a0.muscache.com/im/pictures/264b82a7-7...</td>\n",
       "      <td>Soho</td>\n",
       "      <td>0</td>\n",
       "      <td>1</td>\n",
       "      <td>email, phone, reviews, jumio, government_id</td>\n",
       "    </tr>\n",
       "    <tr>\n",
       "      <th>3</th>\n",
       "      <td>10084023</td>\n",
       "      <td>51744313</td>\n",
       "      <td>https://www.airbnb.com/users/show/51744313</td>\n",
       "      <td>Yi</td>\n",
       "      <td>United States</td>\n",
       "      <td>Hi, this is Yi from Hong Kong, nice to meet yo...</td>\n",
       "      <td>https://a0.muscache.com/im/pictures/user/a204d...</td>\n",
       "      <td>Shek Kip Mei</td>\n",
       "      <td>100</td>\n",
       "      <td>2</td>\n",
       "      <td>email, phone, reviews, jumio, offline_governme...</td>\n",
       "    </tr>\n",
       "    <tr>\n",
       "      <th>4</th>\n",
       "      <td>10091713</td>\n",
       "      <td>13764143</td>\n",
       "      <td>https://www.airbnb.com/users/show/13764143</td>\n",
       "      <td>Ben</td>\n",
       "      <td>New South Wales, Australia</td>\n",
       "      <td>Software developer from Sydney, Australia.</td>\n",
       "      <td>https://a0.muscache.com/im/pictures/03c4d82b-7...</td>\n",
       "      <td>Surry Hills</td>\n",
       "      <td>0</td>\n",
       "      <td>1</td>\n",
       "      <td>email, phone, google, reviews, jumio, offline_...</td>\n",
       "    </tr>\n",
       "    <tr>\n",
       "      <th>...</th>\n",
       "      <td>...</td>\n",
       "      <td>...</td>\n",
       "      <td>...</td>\n",
       "      <td>...</td>\n",
       "      <td>...</td>\n",
       "      <td>...</td>\n",
       "      <td>...</td>\n",
       "      <td>...</td>\n",
       "      <td>...</td>\n",
       "      <td>...</td>\n",
       "      <td>...</td>\n",
       "    </tr>\n",
       "    <tr>\n",
       "      <th>5550</th>\n",
       "      <td>9985696</td>\n",
       "      <td>51303748</td>\n",
       "      <td>https://www.airbnb.com/users/show/51303748</td>\n",
       "      <td>Eren</td>\n",
       "      <td>Kadikoy, Çanakkale, Turkey</td>\n",
       "      <td>No data found</td>\n",
       "      <td>https://a0.muscache.com/im/pictures/89a1b839-2...</td>\n",
       "      <td>No data found</td>\n",
       "      <td>0</td>\n",
       "      <td>2</td>\n",
       "      <td>email, phone</td>\n",
       "    </tr>\n",
       "    <tr>\n",
       "      <th>5551</th>\n",
       "      <td>9993190</td>\n",
       "      <td>51013381</td>\n",
       "      <td>https://www.airbnb.com/users/show/51013381</td>\n",
       "      <td>Coconut Condos</td>\n",
       "      <td>Lahaina, Hawaii, United States</td>\n",
       "      <td>No data found</td>\n",
       "      <td>https://a0.muscache.com/im/pictures/fa071e13-8...</td>\n",
       "      <td>No data found</td>\n",
       "      <td>99</td>\n",
       "      <td>58</td>\n",
       "      <td>email, phone, reviews, kba, work_email</td>\n",
       "    </tr>\n",
       "    <tr>\n",
       "      <th>5552</th>\n",
       "      <td>9887054</td>\n",
       "      <td>31386255</td>\n",
       "      <td>https://www.airbnb.com/users/show/31386255</td>\n",
       "      <td>Cat</td>\n",
       "      <td>Hong Kong</td>\n",
       "      <td>No data found</td>\n",
       "      <td>https://a0.muscache.com/im/pictures/965f2c12-5...</td>\n",
       "      <td>Causeway Bay</td>\n",
       "      <td>60</td>\n",
       "      <td>7</td>\n",
       "      <td>email, phone, reviews</td>\n",
       "    </tr>\n",
       "    <tr>\n",
       "      <th>5553</th>\n",
       "      <td>9907907</td>\n",
       "      <td>47615848</td>\n",
       "      <td>https://www.airbnb.com/users/show/47615848</td>\n",
       "      <td>Lucy</td>\n",
       "      <td>Bondi Beach, New South Wales, Australia</td>\n",
       "      <td>No data found</td>\n",
       "      <td>https://a0.muscache.com/im/pictures/b4675d0a-f...</td>\n",
       "      <td>No data found</td>\n",
       "      <td>0</td>\n",
       "      <td>1</td>\n",
       "      <td>email, phone</td>\n",
       "    </tr>\n",
       "    <tr>\n",
       "      <th>5554</th>\n",
       "      <td>9936016</td>\n",
       "      <td>47092481</td>\n",
       "      <td>https://www.airbnb.com/users/show/47092481</td>\n",
       "      <td>Aliane</td>\n",
       "      <td>BR</td>\n",
       "      <td>No data found</td>\n",
       "      <td>https://a0.muscache.com/im/pictures/4b17fc8e-4...</td>\n",
       "      <td>No data found</td>\n",
       "      <td>0</td>\n",
       "      <td>1</td>\n",
       "      <td>phone</td>\n",
       "    </tr>\n",
       "  </tbody>\n",
       "</table>\n",
       "<p>5555 rows × 11 columns</p>\n",
       "</div>"
      ],
      "text/plain": [
       "            id   host_id                                    host_url  \\\n",
       "0      1003530    454250    https://www.airbnb.com/users/show/454250   \n",
       "1     10133554  52004703  https://www.airbnb.com/users/show/52004703   \n",
       "2     10059872  51624384  https://www.airbnb.com/users/show/51624384   \n",
       "3     10084023  51744313  https://www.airbnb.com/users/show/51744313   \n",
       "4     10091713  13764143  https://www.airbnb.com/users/show/13764143   \n",
       "...        ...       ...                                         ...   \n",
       "5550   9985696  51303748  https://www.airbnb.com/users/show/51303748   \n",
       "5551   9993190  51013381  https://www.airbnb.com/users/show/51013381   \n",
       "5552   9887054  31386255  https://www.airbnb.com/users/show/31386255   \n",
       "5553   9907907  47615848  https://www.airbnb.com/users/show/47615848   \n",
       "5554   9936016  47092481  https://www.airbnb.com/users/show/47092481   \n",
       "\n",
       "           host_name                            host_location  \\\n",
       "0              Greta        New York, New York, United States   \n",
       "1        Mehmet Emin               Istanbul, İstanbul, Turkey   \n",
       "2           Giovanni                     Hong Kong, Hong Kong   \n",
       "3                 Yi                            United States   \n",
       "4                Ben               New South Wales, Australia   \n",
       "...              ...                                      ...   \n",
       "5550            Eren               Kadikoy, Çanakkale, Turkey   \n",
       "5551  Coconut Condos           Lahaina, Hawaii, United States   \n",
       "5552             Cat                                Hong Kong   \n",
       "5553            Lucy  Bondi Beach, New South Wales, Australia   \n",
       "5554          Aliane                                       BR   \n",
       "\n",
       "                                             host_about  \\\n",
       "0     By now I have lived longer in the city than th...   \n",
       "1                                         No data found   \n",
       "2                                         No data found   \n",
       "3     Hi, this is Yi from Hong Kong, nice to meet yo...   \n",
       "4           Software developer from Sydney, Australia.    \n",
       "...                                                 ...   \n",
       "5550                                      No data found   \n",
       "5551                                      No data found   \n",
       "5552                                      No data found   \n",
       "5553                                      No data found   \n",
       "5554                                      No data found   \n",
       "\n",
       "                                       host_picture_url host_neighbourhood  \\\n",
       "0     https://a0.muscache.com/im/pictures/f1022be4-e...      No data found   \n",
       "1     https://a0.muscache.com/im/pictures/user/4cb6b...      No data found   \n",
       "2     https://a0.muscache.com/im/pictures/264b82a7-7...               Soho   \n",
       "3     https://a0.muscache.com/im/pictures/user/a204d...       Shek Kip Mei   \n",
       "4     https://a0.muscache.com/im/pictures/03c4d82b-7...        Surry Hills   \n",
       "...                                                 ...                ...   \n",
       "5550  https://a0.muscache.com/im/pictures/89a1b839-2...      No data found   \n",
       "5551  https://a0.muscache.com/im/pictures/fa071e13-8...      No data found   \n",
       "5552  https://a0.muscache.com/im/pictures/965f2c12-5...       Causeway Bay   \n",
       "5553  https://a0.muscache.com/im/pictures/b4675d0a-f...      No data found   \n",
       "5554  https://a0.muscache.com/im/pictures/4b17fc8e-4...      No data found   \n",
       "\n",
       "      host_response_rate  host_total_listings  \\\n",
       "0                    100                    3   \n",
       "1                    100                    2   \n",
       "2                      0                    1   \n",
       "3                    100                    2   \n",
       "4                      0                    1   \n",
       "...                  ...                  ...   \n",
       "5550                   0                    2   \n",
       "5551                  99                   58   \n",
       "5552                  60                    7   \n",
       "5553                   0                    1   \n",
       "5554                   0                    1   \n",
       "\n",
       "                                     host_verifications  \n",
       "0     email, phone, reviews, jumio, offline_governme...  \n",
       "1     email, phone, facebook, reviews, jumio, offlin...  \n",
       "2           email, phone, reviews, jumio, government_id  \n",
       "3     email, phone, reviews, jumio, offline_governme...  \n",
       "4     email, phone, google, reviews, jumio, offline_...  \n",
       "...                                                 ...  \n",
       "5550                                       email, phone  \n",
       "5551             email, phone, reviews, kba, work_email  \n",
       "5552                              email, phone, reviews  \n",
       "5553                                       email, phone  \n",
       "5554                                              phone  \n",
       "\n",
       "[5555 rows x 11 columns]"
      ]
     },
     "execution_count": 22,
     "metadata": {},
     "output_type": "execute_result"
    }
   ],
   "source": [
    "Host_info"
   ]
  },
  {
   "cell_type": "code",
   "execution_count": 23,
   "metadata": {},
   "outputs": [],
   "source": [
    "# Extracting Review Data and Converting into DF\n",
    "\n",
    "review_data=[]\n",
    "\n",
    "for i in airbnb_data:\n",
    "    data=dict(\n",
    "        id=i['_id'],\n",
    "        first_review=i.get('first_review'),\n",
    "        last_review=i.get('last_review'),\n",
    "        number_of_reviews=i['number_of_reviews'],\n",
    "        overall_score=i['review_scores'].get('review_scores_accuracy'),\n",
    "        cleanliness_score=i['review_scores'].get('review_scores_cleanliness'),\n",
    "        checkin_score=i['review_scores'].get('review_scores_checkin'),\n",
    "        communication_score=i['review_scores'].get('review_scores_communication'),\n",
    "        location_score=i['review_scores'].get('review_scores_communication'),\n",
    "        value_score=i['review_scores'].get('review_scores_value'),\n",
    "        rating=i['review_scores'].get('review_scores_rating')\n",
    "    )\n",
    "    review_data.append(data)\n",
    "\n",
    "Review_info=pd.DataFrame(review_data)"
   ]
  },
  {
   "cell_type": "code",
   "execution_count": 24,
   "metadata": {},
   "outputs": [
    {
     "name": "stdout",
     "output_type": "stream",
     "text": [
      "<class 'pandas.core.frame.DataFrame'>\n",
      "RangeIndex: 5555 entries, 0 to 5554\n",
      "Data columns (total 11 columns):\n",
      " #   Column               Non-Null Count  Dtype  \n",
      "---  ------               --------------  -----  \n",
      " 0   id                   5555 non-null   object \n",
      " 1   first_review         4167 non-null   object \n",
      " 2   last_review          4167 non-null   object \n",
      " 3   number_of_reviews    5555 non-null   int64  \n",
      " 4   overall_score        4079 non-null   float64\n",
      " 5   cleanliness_score    4082 non-null   float64\n",
      " 6   checkin_score        4080 non-null   float64\n",
      " 7   communication_score  4081 non-null   float64\n",
      " 8   location_score       4081 non-null   float64\n",
      " 9   value_score          4080 non-null   float64\n",
      " 10  rating               4081 non-null   float64\n",
      "dtypes: float64(7), int64(1), object(3)\n",
      "memory usage: 477.5+ KB\n"
     ]
    }
   ],
   "source": [
    "# Checking null values & Data types\n",
    "\n",
    "Review_info.info()"
   ]
  },
  {
   "cell_type": "markdown",
   "metadata": {},
   "source": [
    "Data preprocessing for Review_info\n"
   ]
  },
  {
   "cell_type": "code",
   "execution_count": 25,
   "metadata": {},
   "outputs": [
    {
     "name": "stdout",
     "output_type": "stream",
     "text": [
      "Columns with empty strings: []\n"
     ]
    }
   ],
   "source": [
    "# Checking empty values in columns\n",
    "\n",
    "columns_with_empty_strings = Review_info.eq('').any()\n",
    "columns_with_empty_strings = columns_with_empty_strings[columns_with_empty_strings].index\n",
    "print(\"Columns with empty strings:\", columns_with_empty_strings.tolist())"
   ]
  },
  {
   "cell_type": "code",
   "execution_count": 26,
   "metadata": {},
   "outputs": [],
   "source": [
    "# Filling Missing values \n",
    "\n",
    "Review_info[['first_review','last_review']]=Review_info[['first_review','last_review']].fillna('Not Available')\n",
    "\n",
    "# Filling Null values with Mean values of their Specific Columns and changing its data type\n",
    "\n",
    "Review_info[['overall_score', 'cleanliness_score', 'checkin_score', 'communication_score', 'location_score', 'value_score', 'rating']] = Review_info[['overall_score', 'cleanliness_score', 'checkin_score', 'communication_score', 'location_score', 'value_score', 'rating']].apply(lambda x: x.fillna(x.mean())).astype(dtype='int64')\n"
   ]
  },
  {
   "cell_type": "code",
   "execution_count": 27,
   "metadata": {},
   "outputs": [
    {
     "data": {
      "text/html": [
       "<div>\n",
       "<style scoped>\n",
       "    .dataframe tbody tr th:only-of-type {\n",
       "        vertical-align: middle;\n",
       "    }\n",
       "\n",
       "    .dataframe tbody tr th {\n",
       "        vertical-align: top;\n",
       "    }\n",
       "\n",
       "    .dataframe thead th {\n",
       "        text-align: right;\n",
       "    }\n",
       "</style>\n",
       "<table border=\"1\" class=\"dataframe\">\n",
       "  <thead>\n",
       "    <tr style=\"text-align: right;\">\n",
       "      <th></th>\n",
       "      <th>id</th>\n",
       "      <th>first_review</th>\n",
       "      <th>last_review</th>\n",
       "      <th>number_of_reviews</th>\n",
       "      <th>overall_score</th>\n",
       "      <th>cleanliness_score</th>\n",
       "      <th>checkin_score</th>\n",
       "      <th>communication_score</th>\n",
       "      <th>location_score</th>\n",
       "      <th>value_score</th>\n",
       "      <th>rating</th>\n",
       "    </tr>\n",
       "  </thead>\n",
       "  <tbody>\n",
       "    <tr>\n",
       "      <th>0</th>\n",
       "      <td>1003530</td>\n",
       "      <td>2013-04-29 04:00:00</td>\n",
       "      <td>2018-08-12 04:00:00</td>\n",
       "      <td>70</td>\n",
       "      <td>10</td>\n",
       "      <td>9</td>\n",
       "      <td>10</td>\n",
       "      <td>10</td>\n",
       "      <td>10</td>\n",
       "      <td>10</td>\n",
       "      <td>94</td>\n",
       "    </tr>\n",
       "    <tr>\n",
       "      <th>1</th>\n",
       "      <td>10133554</td>\n",
       "      <td>2017-05-04 04:00:00</td>\n",
       "      <td>2018-05-07 04:00:00</td>\n",
       "      <td>29</td>\n",
       "      <td>9</td>\n",
       "      <td>9</td>\n",
       "      <td>10</td>\n",
       "      <td>10</td>\n",
       "      <td>10</td>\n",
       "      <td>9</td>\n",
       "      <td>92</td>\n",
       "    </tr>\n",
       "    <tr>\n",
       "      <th>2</th>\n",
       "      <td>10059872</td>\n",
       "      <td>2015-12-19 05:00:00</td>\n",
       "      <td>2018-03-27 04:00:00</td>\n",
       "      <td>3</td>\n",
       "      <td>10</td>\n",
       "      <td>10</td>\n",
       "      <td>10</td>\n",
       "      <td>10</td>\n",
       "      <td>10</td>\n",
       "      <td>8</td>\n",
       "      <td>100</td>\n",
       "    </tr>\n",
       "    <tr>\n",
       "      <th>3</th>\n",
       "      <td>10084023</td>\n",
       "      <td>2015-12-22 05:00:00</td>\n",
       "      <td>2019-03-01 05:00:00</td>\n",
       "      <td>81</td>\n",
       "      <td>10</td>\n",
       "      <td>8</td>\n",
       "      <td>10</td>\n",
       "      <td>10</td>\n",
       "      <td>10</td>\n",
       "      <td>10</td>\n",
       "      <td>92</td>\n",
       "    </tr>\n",
       "    <tr>\n",
       "      <th>4</th>\n",
       "      <td>10091713</td>\n",
       "      <td>2016-12-29 05:00:00</td>\n",
       "      <td>2018-03-18 04:00:00</td>\n",
       "      <td>64</td>\n",
       "      <td>10</td>\n",
       "      <td>9</td>\n",
       "      <td>10</td>\n",
       "      <td>10</td>\n",
       "      <td>10</td>\n",
       "      <td>9</td>\n",
       "      <td>95</td>\n",
       "    </tr>\n",
       "    <tr>\n",
       "      <th>...</th>\n",
       "      <td>...</td>\n",
       "      <td>...</td>\n",
       "      <td>...</td>\n",
       "      <td>...</td>\n",
       "      <td>...</td>\n",
       "      <td>...</td>\n",
       "      <td>...</td>\n",
       "      <td>...</td>\n",
       "      <td>...</td>\n",
       "      <td>...</td>\n",
       "      <td>...</td>\n",
       "    </tr>\n",
       "    <tr>\n",
       "      <th>5550</th>\n",
       "      <td>9985696</td>\n",
       "      <td>Not Available</td>\n",
       "      <td>Not Available</td>\n",
       "      <td>0</td>\n",
       "      <td>9</td>\n",
       "      <td>9</td>\n",
       "      <td>9</td>\n",
       "      <td>9</td>\n",
       "      <td>9</td>\n",
       "      <td>9</td>\n",
       "      <td>93</td>\n",
       "    </tr>\n",
       "    <tr>\n",
       "      <th>5551</th>\n",
       "      <td>9993190</td>\n",
       "      <td>2016-04-06 04:00:00</td>\n",
       "      <td>2018-08-20 04:00:00</td>\n",
       "      <td>15</td>\n",
       "      <td>10</td>\n",
       "      <td>9</td>\n",
       "      <td>10</td>\n",
       "      <td>10</td>\n",
       "      <td>10</td>\n",
       "      <td>9</td>\n",
       "      <td>92</td>\n",
       "    </tr>\n",
       "    <tr>\n",
       "      <th>5552</th>\n",
       "      <td>9887054</td>\n",
       "      <td>2016-10-02 04:00:00</td>\n",
       "      <td>2017-01-01 05:00:00</td>\n",
       "      <td>4</td>\n",
       "      <td>10</td>\n",
       "      <td>9</td>\n",
       "      <td>10</td>\n",
       "      <td>10</td>\n",
       "      <td>10</td>\n",
       "      <td>9</td>\n",
       "      <td>85</td>\n",
       "    </tr>\n",
       "    <tr>\n",
       "      <th>5553</th>\n",
       "      <td>9907907</td>\n",
       "      <td>Not Available</td>\n",
       "      <td>Not Available</td>\n",
       "      <td>0</td>\n",
       "      <td>9</td>\n",
       "      <td>9</td>\n",
       "      <td>9</td>\n",
       "      <td>9</td>\n",
       "      <td>9</td>\n",
       "      <td>9</td>\n",
       "      <td>93</td>\n",
       "    </tr>\n",
       "    <tr>\n",
       "      <th>5554</th>\n",
       "      <td>9936016</td>\n",
       "      <td>Not Available</td>\n",
       "      <td>Not Available</td>\n",
       "      <td>0</td>\n",
       "      <td>9</td>\n",
       "      <td>9</td>\n",
       "      <td>9</td>\n",
       "      <td>9</td>\n",
       "      <td>9</td>\n",
       "      <td>9</td>\n",
       "      <td>93</td>\n",
       "    </tr>\n",
       "  </tbody>\n",
       "</table>\n",
       "<p>5555 rows × 11 columns</p>\n",
       "</div>"
      ],
      "text/plain": [
       "            id         first_review          last_review  number_of_reviews  \\\n",
       "0      1003530  2013-04-29 04:00:00  2018-08-12 04:00:00                 70   \n",
       "1     10133554  2017-05-04 04:00:00  2018-05-07 04:00:00                 29   \n",
       "2     10059872  2015-12-19 05:00:00  2018-03-27 04:00:00                  3   \n",
       "3     10084023  2015-12-22 05:00:00  2019-03-01 05:00:00                 81   \n",
       "4     10091713  2016-12-29 05:00:00  2018-03-18 04:00:00                 64   \n",
       "...        ...                  ...                  ...                ...   \n",
       "5550   9985696        Not Available        Not Available                  0   \n",
       "5551   9993190  2016-04-06 04:00:00  2018-08-20 04:00:00                 15   \n",
       "5552   9887054  2016-10-02 04:00:00  2017-01-01 05:00:00                  4   \n",
       "5553   9907907        Not Available        Not Available                  0   \n",
       "5554   9936016        Not Available        Not Available                  0   \n",
       "\n",
       "      overall_score  cleanliness_score  checkin_score  communication_score  \\\n",
       "0                10                  9             10                   10   \n",
       "1                 9                  9             10                   10   \n",
       "2                10                 10             10                   10   \n",
       "3                10                  8             10                   10   \n",
       "4                10                  9             10                   10   \n",
       "...             ...                ...            ...                  ...   \n",
       "5550              9                  9              9                    9   \n",
       "5551             10                  9             10                   10   \n",
       "5552             10                  9             10                   10   \n",
       "5553              9                  9              9                    9   \n",
       "5554              9                  9              9                    9   \n",
       "\n",
       "      location_score  value_score  rating  \n",
       "0                 10           10      94  \n",
       "1                 10            9      92  \n",
       "2                 10            8     100  \n",
       "3                 10           10      92  \n",
       "4                 10            9      95  \n",
       "...              ...          ...     ...  \n",
       "5550               9            9      93  \n",
       "5551              10            9      92  \n",
       "5552              10            9      85  \n",
       "5553               9            9      93  \n",
       "5554               9            9      93  \n",
       "\n",
       "[5555 rows x 11 columns]"
      ]
     },
     "execution_count": 27,
     "metadata": {},
     "output_type": "execute_result"
    }
   ],
   "source": [
    "Review_info"
   ]
  },
  {
   "cell_type": "code",
   "execution_count": 28,
   "metadata": {},
   "outputs": [],
   "source": [
    "# Extracting Review comments info and converting into DF\n",
    "\n",
    "comments_data=[]\n",
    "\n",
    "for j in airbnb_data:\n",
    "    r_list=j.get('reviews',[])\n",
    "    for i in r_list:\n",
    "        data=dict(\n",
    "            id=i.get('listing_id'),\n",
    "            comment_id=i.get('_id'),\n",
    "            date=i.get('date'),\n",
    "            reviewer_id=i.get('reviewer_id'),\n",
    "            reviewer_name=i.get('reviewer_name'),\n",
    "            comments=i.get('comments')\n",
    "            )\n",
    "        comments_data.append(data)\n",
    "\n",
    "Review_comments_info=pd.DataFrame(comments_data)"
   ]
  },
  {
   "cell_type": "code",
   "execution_count": 29,
   "metadata": {},
   "outputs": [
    {
     "name": "stdout",
     "output_type": "stream",
     "text": [
      "<class 'pandas.core.frame.DataFrame'>\n",
      "RangeIndex: 149792 entries, 0 to 149791\n",
      "Data columns (total 6 columns):\n",
      " #   Column         Non-Null Count   Dtype \n",
      "---  ------         --------------   ----- \n",
      " 0   id             149792 non-null  object\n",
      " 1   comment_id     149792 non-null  object\n",
      " 2   date           149792 non-null  object\n",
      " 3   reviewer_id    149792 non-null  object\n",
      " 4   reviewer_name  149791 non-null  object\n",
      " 5   comments       149784 non-null  object\n",
      "dtypes: object(6)\n",
      "memory usage: 6.9+ MB\n"
     ]
    }
   ],
   "source": [
    "# Checking null values & Data types\n",
    "\n",
    "Review_comments_info.info()"
   ]
  },
  {
   "cell_type": "code",
   "execution_count": 30,
   "metadata": {},
   "outputs": [
    {
     "name": "stdout",
     "output_type": "stream",
     "text": [
      "Columns with empty strings: ['comments']\n"
     ]
    }
   ],
   "source": [
    "# Checking empty values in columns\n",
    "\n",
    "columns_with_empty_strings = Review_comments_info.eq('').any()\n",
    "columns_with_empty_strings = columns_with_empty_strings[columns_with_empty_strings].index\n",
    "print(\"Columns with empty strings:\", columns_with_empty_strings.tolist())"
   ]
  },
  {
   "cell_type": "code",
   "execution_count": 31,
   "metadata": {},
   "outputs": [],
   "source": [
    "# Filling Missing / Null Values\n",
    "\n",
    "Review_comments_info[['reviewer_name','comments']]=Review_comments_info[['reviewer_name','comments']].fillna('Not Available')\n",
    "Review_comments_info.replace({\"comments\":{'':'No data found'}},inplace=True)\n"
   ]
  },
  {
   "cell_type": "code",
   "execution_count": 32,
   "metadata": {},
   "outputs": [],
   "source": [
    "# Merging all DF's into Main DF\n",
    "\n",
    "airbnb_df=pd.concat([Hotel_info,Room_info,Host_info,Review_info], axis = 1)\n"
   ]
  },
  {
   "cell_type": "code",
   "execution_count": 33,
   "metadata": {},
   "outputs": [],
   "source": [
    "# Removing Duplicate column\n",
    "\n",
    "airbnb_dff = airbnb_df.T.drop_duplicates().T\n"
   ]
  },
  {
   "cell_type": "code",
   "execution_count": 34,
   "metadata": {},
   "outputs": [],
   "source": [
    "# Data frame to CSV connversion\n",
    "\n",
    "airbnb_dff.to_csv(\"Airbnb.csv\")\n"
   ]
  },
  {
   "cell_type": "markdown",
   "metadata": {},
   "source": [
    "# Exploratory Data Analysis"
   ]
  },
  {
   "cell_type": "code",
   "execution_count": 35,
   "metadata": {},
   "outputs": [
    {
     "data": {
      "text/html": [
       "<div>\n",
       "<style scoped>\n",
       "    .dataframe tbody tr th:only-of-type {\n",
       "        vertical-align: middle;\n",
       "    }\n",
       "\n",
       "    .dataframe tbody tr th {\n",
       "        vertical-align: top;\n",
       "    }\n",
       "\n",
       "    .dataframe thead th {\n",
       "        text-align: right;\n",
       "    }\n",
       "</style>\n",
       "<table border=\"1\" class=\"dataframe\">\n",
       "  <thead>\n",
       "    <tr style=\"text-align: right;\">\n",
       "      <th></th>\n",
       "      <th>id</th>\n",
       "      <th>listing_url</th>\n",
       "      <th>name</th>\n",
       "      <th>description</th>\n",
       "      <th>neighborhood_overview</th>\n",
       "      <th>transit</th>\n",
       "      <th>street</th>\n",
       "      <th>suburb</th>\n",
       "      <th>government_area</th>\n",
       "      <th>market</th>\n",
       "      <th>...</th>\n",
       "      <th>first_review</th>\n",
       "      <th>last_review</th>\n",
       "      <th>number_of_reviews</th>\n",
       "      <th>overall_score</th>\n",
       "      <th>cleanliness_score</th>\n",
       "      <th>checkin_score</th>\n",
       "      <th>communication_score</th>\n",
       "      <th>location_score</th>\n",
       "      <th>value_score</th>\n",
       "      <th>rating</th>\n",
       "    </tr>\n",
       "  </thead>\n",
       "  <tbody>\n",
       "    <tr>\n",
       "      <th>0</th>\n",
       "      <td>1003530</td>\n",
       "      <td>https://www.airbnb.com/rooms/1003530</td>\n",
       "      <td>New York City - Upper West Side Apt</td>\n",
       "      <td>Murphy bed, optional second bedroom available....</td>\n",
       "      <td>Great neighborhood - many terrific restaurants...</td>\n",
       "      <td>Conveniently located near 1, 2, 3, B &amp; C subwa...</td>\n",
       "      <td>New York, NY, United States</td>\n",
       "      <td>Manhattan</td>\n",
       "      <td>Upper West Side</td>\n",
       "      <td>New York</td>\n",
       "      <td>...</td>\n",
       "      <td>2013-04-29 04:00:00</td>\n",
       "      <td>2018-08-12 04:00:00</td>\n",
       "      <td>70</td>\n",
       "      <td>10</td>\n",
       "      <td>9</td>\n",
       "      <td>10</td>\n",
       "      <td>10</td>\n",
       "      <td>10</td>\n",
       "      <td>10</td>\n",
       "      <td>94</td>\n",
       "    </tr>\n",
       "    <tr>\n",
       "      <th>1</th>\n",
       "      <td>10133554</td>\n",
       "      <td>https://www.airbnb.com/rooms/10133554</td>\n",
       "      <td>Double and triple rooms Blue mosque</td>\n",
       "      <td>We are on the central city  Blue mosque 5 minu...</td>\n",
       "      <td>Cankurtaran mahallesi akbıyık caddesi no 22 Su...</td>\n",
       "      <td>Tram 5 minutes  metro 10 minutes  Bus 10 minutes</td>\n",
       "      <td>Fatih , İstanbul, Turkey</td>\n",
       "      <td>Fatih</td>\n",
       "      <td>Fatih</td>\n",
       "      <td>Istanbul</td>\n",
       "      <td>...</td>\n",
       "      <td>2017-05-04 04:00:00</td>\n",
       "      <td>2018-05-07 04:00:00</td>\n",
       "      <td>29</td>\n",
       "      <td>9</td>\n",
       "      <td>9</td>\n",
       "      <td>10</td>\n",
       "      <td>10</td>\n",
       "      <td>10</td>\n",
       "      <td>9</td>\n",
       "      <td>92</td>\n",
       "    </tr>\n",
       "    <tr>\n",
       "      <th>2</th>\n",
       "      <td>10059872</td>\n",
       "      <td>https://www.airbnb.com/rooms/10059872</td>\n",
       "      <td>Soho Cozy, Spacious and Convenient</td>\n",
       "      <td>Clean, fully furnish, Spacious 1 bedroom flat ...</td>\n",
       "      <td>No data found</td>\n",
       "      <td>No data found</td>\n",
       "      <td>Hong Kong, Hong Kong Island, Hong Kong</td>\n",
       "      <td>Central &amp; Western District</td>\n",
       "      <td>Central &amp; Western</td>\n",
       "      <td>Hong Kong</td>\n",
       "      <td>...</td>\n",
       "      <td>2015-12-19 05:00:00</td>\n",
       "      <td>2018-03-27 04:00:00</td>\n",
       "      <td>3</td>\n",
       "      <td>10</td>\n",
       "      <td>10</td>\n",
       "      <td>10</td>\n",
       "      <td>10</td>\n",
       "      <td>10</td>\n",
       "      <td>8</td>\n",
       "      <td>100</td>\n",
       "    </tr>\n",
       "    <tr>\n",
       "      <th>3</th>\n",
       "      <td>10084023</td>\n",
       "      <td>https://www.airbnb.com/rooms/10084023</td>\n",
       "      <td>City center private room with bed</td>\n",
       "      <td>House is located 5mins walk from Sham Shui Po ...</td>\n",
       "      <td>Cheapest food, electronic device, clothing and...</td>\n",
       "      <td>Close to 3 different MTR Station, Sham shui Po...</td>\n",
       "      <td>Hong Kong , 九龍, Hong Kong</td>\n",
       "      <td>Sham Shui Po District</td>\n",
       "      <td>Sham Shui Po</td>\n",
       "      <td>Hong Kong</td>\n",
       "      <td>...</td>\n",
       "      <td>2015-12-22 05:00:00</td>\n",
       "      <td>2019-03-01 05:00:00</td>\n",
       "      <td>81</td>\n",
       "      <td>10</td>\n",
       "      <td>8</td>\n",
       "      <td>10</td>\n",
       "      <td>10</td>\n",
       "      <td>10</td>\n",
       "      <td>10</td>\n",
       "      <td>92</td>\n",
       "    </tr>\n",
       "    <tr>\n",
       "      <th>4</th>\n",
       "      <td>10091713</td>\n",
       "      <td>https://www.airbnb.com/rooms/10091713</td>\n",
       "      <td>Surry Hills Studio - Your Perfect Base in Sydney</td>\n",
       "      <td>This spacious, light filled studio has everyth...</td>\n",
       "      <td>Surry Hills is a vibrant eclectic community an...</td>\n",
       "      <td>Travel Card 'Opal' travel cards work on all Sy...</td>\n",
       "      <td>Surry Hills, NSW, Australia</td>\n",
       "      <td>Darlinghurst</td>\n",
       "      <td>Sydney</td>\n",
       "      <td>Sydney</td>\n",
       "      <td>...</td>\n",
       "      <td>2016-12-29 05:00:00</td>\n",
       "      <td>2018-03-18 04:00:00</td>\n",
       "      <td>64</td>\n",
       "      <td>10</td>\n",
       "      <td>9</td>\n",
       "      <td>10</td>\n",
       "      <td>10</td>\n",
       "      <td>10</td>\n",
       "      <td>9</td>\n",
       "      <td>95</td>\n",
       "    </tr>\n",
       "    <tr>\n",
       "      <th>...</th>\n",
       "      <td>...</td>\n",
       "      <td>...</td>\n",
       "      <td>...</td>\n",
       "      <td>...</td>\n",
       "      <td>...</td>\n",
       "      <td>...</td>\n",
       "      <td>...</td>\n",
       "      <td>...</td>\n",
       "      <td>...</td>\n",
       "      <td>...</td>\n",
       "      <td>...</td>\n",
       "      <td>...</td>\n",
       "      <td>...</td>\n",
       "      <td>...</td>\n",
       "      <td>...</td>\n",
       "      <td>...</td>\n",
       "      <td>...</td>\n",
       "      <td>...</td>\n",
       "      <td>...</td>\n",
       "      <td>...</td>\n",
       "      <td>...</td>\n",
       "    </tr>\n",
       "    <tr>\n",
       "      <th>5550</th>\n",
       "      <td>9985696</td>\n",
       "      <td>https://www.airbnb.com/rooms/9985696</td>\n",
       "      <td>Kadıköy-Altıyol</td>\n",
       "      <td>Kadıköy merkezde 2+1 dairem vardır.Çok kalabal...</td>\n",
       "      <td>No data found</td>\n",
       "      <td>No data found</td>\n",
       "      <td>Kadıköy, İstanbul, Turkey</td>\n",
       "      <td>Moda</td>\n",
       "      <td>Kadikoy</td>\n",
       "      <td>Istanbul</td>\n",
       "      <td>...</td>\n",
       "      <td>Not Available</td>\n",
       "      <td>Not Available</td>\n",
       "      <td>0</td>\n",
       "      <td>9</td>\n",
       "      <td>9</td>\n",
       "      <td>9</td>\n",
       "      <td>9</td>\n",
       "      <td>9</td>\n",
       "      <td>9</td>\n",
       "      <td>93</td>\n",
       "    </tr>\n",
       "    <tr>\n",
       "      <th>5551</th>\n",
       "      <td>9993190</td>\n",
       "      <td>https://www.airbnb.com/rooms/9993190</td>\n",
       "      <td>Just Steps from the Ocean at Premier Platinum ...</td>\n",
       "      <td>Relax Hawaiian Style in Gated Community on Oce...</td>\n",
       "      <td>Location: Located at the south end of Lahaina ...</td>\n",
       "      <td>You can walk to most attractions within Lahain...</td>\n",
       "      <td>Lahaina, HI, United States</td>\n",
       "      <td>Lahaina</td>\n",
       "      <td>Lahaina</td>\n",
       "      <td>Maui</td>\n",
       "      <td>...</td>\n",
       "      <td>2016-04-06 04:00:00</td>\n",
       "      <td>2018-08-20 04:00:00</td>\n",
       "      <td>15</td>\n",
       "      <td>10</td>\n",
       "      <td>9</td>\n",
       "      <td>10</td>\n",
       "      <td>10</td>\n",
       "      <td>10</td>\n",
       "      <td>9</td>\n",
       "      <td>92</td>\n",
       "    </tr>\n",
       "    <tr>\n",
       "      <th>5552</th>\n",
       "      <td>9887054</td>\n",
       "      <td>https://www.airbnb.com/rooms/9887054</td>\n",
       "      <td>Quarry Bay fully furnished studio C</td>\n",
       "      <td>Newly renovated studio flat with full furniture.</td>\n",
       "      <td>No data found</td>\n",
       "      <td>No data found</td>\n",
       "      <td>Hong Kong, Hong Kong Island, Hong Kong</td>\n",
       "      <td>Quarry Bay</td>\n",
       "      <td>Eastern</td>\n",
       "      <td>Hong Kong</td>\n",
       "      <td>...</td>\n",
       "      <td>2016-10-02 04:00:00</td>\n",
       "      <td>2017-01-01 05:00:00</td>\n",
       "      <td>4</td>\n",
       "      <td>10</td>\n",
       "      <td>9</td>\n",
       "      <td>10</td>\n",
       "      <td>10</td>\n",
       "      <td>10</td>\n",
       "      <td>9</td>\n",
       "      <td>85</td>\n",
       "    </tr>\n",
       "    <tr>\n",
       "      <th>5553</th>\n",
       "      <td>9907907</td>\n",
       "      <td>https://www.airbnb.com/rooms/9907907</td>\n",
       "      <td>Large double room in Bondi</td>\n",
       "      <td>A bright large double room is available in a b...</td>\n",
       "      <td>No data found</td>\n",
       "      <td>The flat is exactly half way between the shops...</td>\n",
       "      <td>Bondi Beach, NSW, Australia</td>\n",
       "      <td>Bondi</td>\n",
       "      <td>Waverley</td>\n",
       "      <td>Sydney</td>\n",
       "      <td>...</td>\n",
       "      <td>Not Available</td>\n",
       "      <td>Not Available</td>\n",
       "      <td>0</td>\n",
       "      <td>9</td>\n",
       "      <td>9</td>\n",
       "      <td>9</td>\n",
       "      <td>9</td>\n",
       "      <td>9</td>\n",
       "      <td>9</td>\n",
       "      <td>93</td>\n",
       "    </tr>\n",
       "    <tr>\n",
       "      <th>5554</th>\n",
       "      <td>9936016</td>\n",
       "      <td>https://www.airbnb.com/rooms/9936016</td>\n",
       "      <td>Alugo Apartamento na Tijuca</td>\n",
       "      <td>Apartamento amplo que acomoda 6 pessoas. Um qu...</td>\n",
       "      <td>No data found</td>\n",
       "      <td>No data found</td>\n",
       "      <td>Rio de Janeiro, Rio de Janeiro, Brazil</td>\n",
       "      <td>Lapa</td>\n",
       "      <td>Centro</td>\n",
       "      <td>Rio De Janeiro</td>\n",
       "      <td>...</td>\n",
       "      <td>Not Available</td>\n",
       "      <td>Not Available</td>\n",
       "      <td>0</td>\n",
       "      <td>9</td>\n",
       "      <td>9</td>\n",
       "      <td>9</td>\n",
       "      <td>9</td>\n",
       "      <td>9</td>\n",
       "      <td>9</td>\n",
       "      <td>93</td>\n",
       "    </tr>\n",
       "  </tbody>\n",
       "</table>\n",
       "<p>5555 rows × 58 columns</p>\n",
       "</div>"
      ],
      "text/plain": [
       "            id                            listing_url  \\\n",
       "0      1003530   https://www.airbnb.com/rooms/1003530   \n",
       "1     10133554  https://www.airbnb.com/rooms/10133554   \n",
       "2     10059872  https://www.airbnb.com/rooms/10059872   \n",
       "3     10084023  https://www.airbnb.com/rooms/10084023   \n",
       "4     10091713  https://www.airbnb.com/rooms/10091713   \n",
       "...        ...                                    ...   \n",
       "5550   9985696   https://www.airbnb.com/rooms/9985696   \n",
       "5551   9993190   https://www.airbnb.com/rooms/9993190   \n",
       "5552   9887054   https://www.airbnb.com/rooms/9887054   \n",
       "5553   9907907   https://www.airbnb.com/rooms/9907907   \n",
       "5554   9936016   https://www.airbnb.com/rooms/9936016   \n",
       "\n",
       "                                                   name  \\\n",
       "0                   New York City - Upper West Side Apt   \n",
       "1                   Double and triple rooms Blue mosque   \n",
       "2                    Soho Cozy, Spacious and Convenient   \n",
       "3                     City center private room with bed   \n",
       "4      Surry Hills Studio - Your Perfect Base in Sydney   \n",
       "...                                                 ...   \n",
       "5550                                    Kadıköy-Altıyol   \n",
       "5551  Just Steps from the Ocean at Premier Platinum ...   \n",
       "5552                Quarry Bay fully furnished studio C   \n",
       "5553                         Large double room in Bondi   \n",
       "5554                        Alugo Apartamento na Tijuca   \n",
       "\n",
       "                                            description  \\\n",
       "0     Murphy bed, optional second bedroom available....   \n",
       "1     We are on the central city  Blue mosque 5 minu...   \n",
       "2     Clean, fully furnish, Spacious 1 bedroom flat ...   \n",
       "3     House is located 5mins walk from Sham Shui Po ...   \n",
       "4     This spacious, light filled studio has everyth...   \n",
       "...                                                 ...   \n",
       "5550  Kadıköy merkezde 2+1 dairem vardır.Çok kalabal...   \n",
       "5551  Relax Hawaiian Style in Gated Community on Oce...   \n",
       "5552   Newly renovated studio flat with full furniture.   \n",
       "5553  A bright large double room is available in a b...   \n",
       "5554  Apartamento amplo que acomoda 6 pessoas. Um qu...   \n",
       "\n",
       "                                  neighborhood_overview  \\\n",
       "0     Great neighborhood - many terrific restaurants...   \n",
       "1     Cankurtaran mahallesi akbıyık caddesi no 22 Su...   \n",
       "2                                         No data found   \n",
       "3     Cheapest food, electronic device, clothing and...   \n",
       "4     Surry Hills is a vibrant eclectic community an...   \n",
       "...                                                 ...   \n",
       "5550                                      No data found   \n",
       "5551  Location: Located at the south end of Lahaina ...   \n",
       "5552                                      No data found   \n",
       "5553                                      No data found   \n",
       "5554                                      No data found   \n",
       "\n",
       "                                                transit  \\\n",
       "0     Conveniently located near 1, 2, 3, B & C subwa...   \n",
       "1      Tram 5 minutes  metro 10 minutes  Bus 10 minutes   \n",
       "2                                         No data found   \n",
       "3     Close to 3 different MTR Station, Sham shui Po...   \n",
       "4     Travel Card 'Opal' travel cards work on all Sy...   \n",
       "...                                                 ...   \n",
       "5550                                      No data found   \n",
       "5551  You can walk to most attractions within Lahain...   \n",
       "5552                                      No data found   \n",
       "5553  The flat is exactly half way between the shops...   \n",
       "5554                                      No data found   \n",
       "\n",
       "                                      street                      suburb  \\\n",
       "0                New York, NY, United States                   Manhattan   \n",
       "1                   Fatih , İstanbul, Turkey                       Fatih   \n",
       "2     Hong Kong, Hong Kong Island, Hong Kong  Central & Western District   \n",
       "3                  Hong Kong , 九龍, Hong Kong       Sham Shui Po District   \n",
       "4                Surry Hills, NSW, Australia                Darlinghurst   \n",
       "...                                      ...                         ...   \n",
       "5550               Kadıköy, İstanbul, Turkey                        Moda   \n",
       "5551              Lahaina, HI, United States                     Lahaina   \n",
       "5552  Hong Kong, Hong Kong Island, Hong Kong                  Quarry Bay   \n",
       "5553             Bondi Beach, NSW, Australia                       Bondi   \n",
       "5554  Rio de Janeiro, Rio de Janeiro, Brazil                        Lapa   \n",
       "\n",
       "        government_area          market  ...         first_review  \\\n",
       "0       Upper West Side        New York  ...  2013-04-29 04:00:00   \n",
       "1                 Fatih        Istanbul  ...  2017-05-04 04:00:00   \n",
       "2     Central & Western       Hong Kong  ...  2015-12-19 05:00:00   \n",
       "3          Sham Shui Po       Hong Kong  ...  2015-12-22 05:00:00   \n",
       "4                Sydney          Sydney  ...  2016-12-29 05:00:00   \n",
       "...                 ...             ...  ...                  ...   \n",
       "5550            Kadikoy        Istanbul  ...        Not Available   \n",
       "5551            Lahaina            Maui  ...  2016-04-06 04:00:00   \n",
       "5552            Eastern       Hong Kong  ...  2016-10-02 04:00:00   \n",
       "5553           Waverley          Sydney  ...        Not Available   \n",
       "5554             Centro  Rio De Janeiro  ...        Not Available   \n",
       "\n",
       "              last_review number_of_reviews  overall_score  cleanliness_score  \\\n",
       "0     2018-08-12 04:00:00                70             10                  9   \n",
       "1     2018-05-07 04:00:00                29              9                  9   \n",
       "2     2018-03-27 04:00:00                 3             10                 10   \n",
       "3     2019-03-01 05:00:00                81             10                  8   \n",
       "4     2018-03-18 04:00:00                64             10                  9   \n",
       "...                   ...               ...            ...                ...   \n",
       "5550        Not Available                 0              9                  9   \n",
       "5551  2018-08-20 04:00:00                15             10                  9   \n",
       "5552  2017-01-01 05:00:00                 4             10                  9   \n",
       "5553        Not Available                 0              9                  9   \n",
       "5554        Not Available                 0              9                  9   \n",
       "\n",
       "      checkin_score  communication_score  location_score value_score rating  \n",
       "0                10                   10              10          10     94  \n",
       "1                10                   10              10           9     92  \n",
       "2                10                   10              10           8    100  \n",
       "3                10                   10              10          10     92  \n",
       "4                10                   10              10           9     95  \n",
       "...             ...                  ...             ...         ...    ...  \n",
       "5550              9                    9               9           9     93  \n",
       "5551             10                   10              10           9     92  \n",
       "5552             10                   10              10           9     85  \n",
       "5553              9                    9               9           9     93  \n",
       "5554              9                    9               9           9     93  \n",
       "\n",
       "[5555 rows x 58 columns]"
      ]
     },
     "execution_count": 35,
     "metadata": {},
     "output_type": "execute_result"
    }
   ],
   "source": [
    "airbnb_df"
   ]
  },
  {
   "cell_type": "code",
   "execution_count": 36,
   "metadata": {},
   "outputs": [],
   "source": [
    "import seaborn as sns\n",
    "import matplotlib.pyplot as plt\n",
    "import numpy as np\n",
    "import plotly.graph_objects as go\n",
    "import plotly.express as px"
   ]
  },
  {
   "cell_type": "code",
   "execution_count": 37,
   "metadata": {},
   "outputs": [
    {
     "name": "stdout",
     "output_type": "stream",
     "text": [
      "Average Price: 278.76615661566154\n",
      "Standard Deviation: 842.1397205652012\n",
      "Median Price: 129.0\n",
      "Minimum Price: 9\n",
      "Maximum Price: 48842\n"
     ]
    }
   ],
   "source": [
    "# Statistical Data of Price:\n",
    "\n",
    "Price=airbnb_df['price']\n",
    "\n",
    "avg_price = np.average(Price)\n",
    "var_price = np.var(Price)\n",
    "std_price = np.std(Price)\n",
    "median_price = np.median(Price)\n",
    "min_price = np.min(Price)\n",
    "max_price = np.max(Price)\n",
    "\n",
    "print(\"Average Price:\", avg_price)\n",
    "print(\"Standard Deviation:\", std_price)\n",
    "print(\"Median Price:\", median_price)\n",
    "print(\"Minimum Price:\", min_price)\n",
    "print(\"Maximum Price:\", max_price)\n"
   ]
  },
  {
   "cell_type": "code",
   "execution_count": 38,
   "metadata": {},
   "outputs": [
    {
     "data": {
      "application/vnd.plotly.v1+json": {
       "config": {
        "plotlyServerURL": "https://plot.ly"
       },
       "data": [
        {
         "alignmentgroup": "True",
         "hovertemplate": "country=%{x}<br>Mean Price=%{marker.color}<extra></extra>",
         "legendgroup": "",
         "marker": {
          "color": [
           197.8065573770492,
           525.3465346534654,
           100.11710323574731,
           405.36842105263156,
           773.7866666666666,
           69.18198198198198,
           100.826224328594,
           368.1467473524962,
           185.76923076923077
          ],
          "coloraxis": "coloraxis",
          "pattern": {
           "shape": ""
          }
         },
         "name": "",
         "offsetgroup": "",
         "orientation": "v",
         "showlegend": false,
         "textposition": "auto",
         "type": "bar",
         "x": [
          "Australia",
          "Brazil",
          "Canada",
          "China",
          "Hong Kong",
          "Portugal",
          "Spain",
          "Turkey",
          "United States"
         ],
         "xaxis": "x",
         "y": [
          197.8065573770492,
          525.3465346534654,
          100.11710323574731,
          405.36842105263156,
          773.7866666666666,
          69.18198198198198,
          100.826224328594,
          368.1467473524962,
          185.76923076923077
         ],
         "yaxis": "y"
        }
       ],
       "layout": {
        "barmode": "relative",
        "coloraxis": {
         "colorbar": {
          "title": {
           "text": "Mean Price"
          }
         },
         "colorscale": [
          [
           0,
           "#0d0887"
          ],
          [
           0.1111111111111111,
           "#46039f"
          ],
          [
           0.2222222222222222,
           "#7201a8"
          ],
          [
           0.3333333333333333,
           "#9c179e"
          ],
          [
           0.4444444444444444,
           "#bd3786"
          ],
          [
           0.5555555555555556,
           "#d8576b"
          ],
          [
           0.6666666666666666,
           "#ed7953"
          ],
          [
           0.7777777777777778,
           "#fb9f3a"
          ],
          [
           0.8888888888888888,
           "#fdca26"
          ],
          [
           1,
           "#f0f921"
          ]
         ]
        },
        "legend": {
         "tracegroupgap": 0
        },
        "template": {
         "data": {
          "bar": [
           {
            "error_x": {
             "color": "#2a3f5f"
            },
            "error_y": {
             "color": "#2a3f5f"
            },
            "marker": {
             "line": {
              "color": "#E5ECF6",
              "width": 0.5
             },
             "pattern": {
              "fillmode": "overlay",
              "size": 10,
              "solidity": 0.2
             }
            },
            "type": "bar"
           }
          ],
          "barpolar": [
           {
            "marker": {
             "line": {
              "color": "#E5ECF6",
              "width": 0.5
             },
             "pattern": {
              "fillmode": "overlay",
              "size": 10,
              "solidity": 0.2
             }
            },
            "type": "barpolar"
           }
          ],
          "carpet": [
           {
            "aaxis": {
             "endlinecolor": "#2a3f5f",
             "gridcolor": "white",
             "linecolor": "white",
             "minorgridcolor": "white",
             "startlinecolor": "#2a3f5f"
            },
            "baxis": {
             "endlinecolor": "#2a3f5f",
             "gridcolor": "white",
             "linecolor": "white",
             "minorgridcolor": "white",
             "startlinecolor": "#2a3f5f"
            },
            "type": "carpet"
           }
          ],
          "choropleth": [
           {
            "colorbar": {
             "outlinewidth": 0,
             "ticks": ""
            },
            "type": "choropleth"
           }
          ],
          "contour": [
           {
            "colorbar": {
             "outlinewidth": 0,
             "ticks": ""
            },
            "colorscale": [
             [
              0,
              "#0d0887"
             ],
             [
              0.1111111111111111,
              "#46039f"
             ],
             [
              0.2222222222222222,
              "#7201a8"
             ],
             [
              0.3333333333333333,
              "#9c179e"
             ],
             [
              0.4444444444444444,
              "#bd3786"
             ],
             [
              0.5555555555555556,
              "#d8576b"
             ],
             [
              0.6666666666666666,
              "#ed7953"
             ],
             [
              0.7777777777777778,
              "#fb9f3a"
             ],
             [
              0.8888888888888888,
              "#fdca26"
             ],
             [
              1,
              "#f0f921"
             ]
            ],
            "type": "contour"
           }
          ],
          "contourcarpet": [
           {
            "colorbar": {
             "outlinewidth": 0,
             "ticks": ""
            },
            "type": "contourcarpet"
           }
          ],
          "heatmap": [
           {
            "colorbar": {
             "outlinewidth": 0,
             "ticks": ""
            },
            "colorscale": [
             [
              0,
              "#0d0887"
             ],
             [
              0.1111111111111111,
              "#46039f"
             ],
             [
              0.2222222222222222,
              "#7201a8"
             ],
             [
              0.3333333333333333,
              "#9c179e"
             ],
             [
              0.4444444444444444,
              "#bd3786"
             ],
             [
              0.5555555555555556,
              "#d8576b"
             ],
             [
              0.6666666666666666,
              "#ed7953"
             ],
             [
              0.7777777777777778,
              "#fb9f3a"
             ],
             [
              0.8888888888888888,
              "#fdca26"
             ],
             [
              1,
              "#f0f921"
             ]
            ],
            "type": "heatmap"
           }
          ],
          "heatmapgl": [
           {
            "colorbar": {
             "outlinewidth": 0,
             "ticks": ""
            },
            "colorscale": [
             [
              0,
              "#0d0887"
             ],
             [
              0.1111111111111111,
              "#46039f"
             ],
             [
              0.2222222222222222,
              "#7201a8"
             ],
             [
              0.3333333333333333,
              "#9c179e"
             ],
             [
              0.4444444444444444,
              "#bd3786"
             ],
             [
              0.5555555555555556,
              "#d8576b"
             ],
             [
              0.6666666666666666,
              "#ed7953"
             ],
             [
              0.7777777777777778,
              "#fb9f3a"
             ],
             [
              0.8888888888888888,
              "#fdca26"
             ],
             [
              1,
              "#f0f921"
             ]
            ],
            "type": "heatmapgl"
           }
          ],
          "histogram": [
           {
            "marker": {
             "pattern": {
              "fillmode": "overlay",
              "size": 10,
              "solidity": 0.2
             }
            },
            "type": "histogram"
           }
          ],
          "histogram2d": [
           {
            "colorbar": {
             "outlinewidth": 0,
             "ticks": ""
            },
            "colorscale": [
             [
              0,
              "#0d0887"
             ],
             [
              0.1111111111111111,
              "#46039f"
             ],
             [
              0.2222222222222222,
              "#7201a8"
             ],
             [
              0.3333333333333333,
              "#9c179e"
             ],
             [
              0.4444444444444444,
              "#bd3786"
             ],
             [
              0.5555555555555556,
              "#d8576b"
             ],
             [
              0.6666666666666666,
              "#ed7953"
             ],
             [
              0.7777777777777778,
              "#fb9f3a"
             ],
             [
              0.8888888888888888,
              "#fdca26"
             ],
             [
              1,
              "#f0f921"
             ]
            ],
            "type": "histogram2d"
           }
          ],
          "histogram2dcontour": [
           {
            "colorbar": {
             "outlinewidth": 0,
             "ticks": ""
            },
            "colorscale": [
             [
              0,
              "#0d0887"
             ],
             [
              0.1111111111111111,
              "#46039f"
             ],
             [
              0.2222222222222222,
              "#7201a8"
             ],
             [
              0.3333333333333333,
              "#9c179e"
             ],
             [
              0.4444444444444444,
              "#bd3786"
             ],
             [
              0.5555555555555556,
              "#d8576b"
             ],
             [
              0.6666666666666666,
              "#ed7953"
             ],
             [
              0.7777777777777778,
              "#fb9f3a"
             ],
             [
              0.8888888888888888,
              "#fdca26"
             ],
             [
              1,
              "#f0f921"
             ]
            ],
            "type": "histogram2dcontour"
           }
          ],
          "mesh3d": [
           {
            "colorbar": {
             "outlinewidth": 0,
             "ticks": ""
            },
            "type": "mesh3d"
           }
          ],
          "parcoords": [
           {
            "line": {
             "colorbar": {
              "outlinewidth": 0,
              "ticks": ""
             }
            },
            "type": "parcoords"
           }
          ],
          "pie": [
           {
            "automargin": true,
            "type": "pie"
           }
          ],
          "scatter": [
           {
            "fillpattern": {
             "fillmode": "overlay",
             "size": 10,
             "solidity": 0.2
            },
            "type": "scatter"
           }
          ],
          "scatter3d": [
           {
            "line": {
             "colorbar": {
              "outlinewidth": 0,
              "ticks": ""
             }
            },
            "marker": {
             "colorbar": {
              "outlinewidth": 0,
              "ticks": ""
             }
            },
            "type": "scatter3d"
           }
          ],
          "scattercarpet": [
           {
            "marker": {
             "colorbar": {
              "outlinewidth": 0,
              "ticks": ""
             }
            },
            "type": "scattercarpet"
           }
          ],
          "scattergeo": [
           {
            "marker": {
             "colorbar": {
              "outlinewidth": 0,
              "ticks": ""
             }
            },
            "type": "scattergeo"
           }
          ],
          "scattergl": [
           {
            "marker": {
             "colorbar": {
              "outlinewidth": 0,
              "ticks": ""
             }
            },
            "type": "scattergl"
           }
          ],
          "scattermapbox": [
           {
            "marker": {
             "colorbar": {
              "outlinewidth": 0,
              "ticks": ""
             }
            },
            "type": "scattermapbox"
           }
          ],
          "scatterpolar": [
           {
            "marker": {
             "colorbar": {
              "outlinewidth": 0,
              "ticks": ""
             }
            },
            "type": "scatterpolar"
           }
          ],
          "scatterpolargl": [
           {
            "marker": {
             "colorbar": {
              "outlinewidth": 0,
              "ticks": ""
             }
            },
            "type": "scatterpolargl"
           }
          ],
          "scatterternary": [
           {
            "marker": {
             "colorbar": {
              "outlinewidth": 0,
              "ticks": ""
             }
            },
            "type": "scatterternary"
           }
          ],
          "surface": [
           {
            "colorbar": {
             "outlinewidth": 0,
             "ticks": ""
            },
            "colorscale": [
             [
              0,
              "#0d0887"
             ],
             [
              0.1111111111111111,
              "#46039f"
             ],
             [
              0.2222222222222222,
              "#7201a8"
             ],
             [
              0.3333333333333333,
              "#9c179e"
             ],
             [
              0.4444444444444444,
              "#bd3786"
             ],
             [
              0.5555555555555556,
              "#d8576b"
             ],
             [
              0.6666666666666666,
              "#ed7953"
             ],
             [
              0.7777777777777778,
              "#fb9f3a"
             ],
             [
              0.8888888888888888,
              "#fdca26"
             ],
             [
              1,
              "#f0f921"
             ]
            ],
            "type": "surface"
           }
          ],
          "table": [
           {
            "cells": {
             "fill": {
              "color": "#EBF0F8"
             },
             "line": {
              "color": "white"
             }
            },
            "header": {
             "fill": {
              "color": "#C8D4E3"
             },
             "line": {
              "color": "white"
             }
            },
            "type": "table"
           }
          ]
         },
         "layout": {
          "annotationdefaults": {
           "arrowcolor": "#2a3f5f",
           "arrowhead": 0,
           "arrowwidth": 1
          },
          "autotypenumbers": "strict",
          "coloraxis": {
           "colorbar": {
            "outlinewidth": 0,
            "ticks": ""
           }
          },
          "colorscale": {
           "diverging": [
            [
             0,
             "#8e0152"
            ],
            [
             0.1,
             "#c51b7d"
            ],
            [
             0.2,
             "#de77ae"
            ],
            [
             0.3,
             "#f1b6da"
            ],
            [
             0.4,
             "#fde0ef"
            ],
            [
             0.5,
             "#f7f7f7"
            ],
            [
             0.6,
             "#e6f5d0"
            ],
            [
             0.7,
             "#b8e186"
            ],
            [
             0.8,
             "#7fbc41"
            ],
            [
             0.9,
             "#4d9221"
            ],
            [
             1,
             "#276419"
            ]
           ],
           "sequential": [
            [
             0,
             "#0d0887"
            ],
            [
             0.1111111111111111,
             "#46039f"
            ],
            [
             0.2222222222222222,
             "#7201a8"
            ],
            [
             0.3333333333333333,
             "#9c179e"
            ],
            [
             0.4444444444444444,
             "#bd3786"
            ],
            [
             0.5555555555555556,
             "#d8576b"
            ],
            [
             0.6666666666666666,
             "#ed7953"
            ],
            [
             0.7777777777777778,
             "#fb9f3a"
            ],
            [
             0.8888888888888888,
             "#fdca26"
            ],
            [
             1,
             "#f0f921"
            ]
           ],
           "sequentialminus": [
            [
             0,
             "#0d0887"
            ],
            [
             0.1111111111111111,
             "#46039f"
            ],
            [
             0.2222222222222222,
             "#7201a8"
            ],
            [
             0.3333333333333333,
             "#9c179e"
            ],
            [
             0.4444444444444444,
             "#bd3786"
            ],
            [
             0.5555555555555556,
             "#d8576b"
            ],
            [
             0.6666666666666666,
             "#ed7953"
            ],
            [
             0.7777777777777778,
             "#fb9f3a"
            ],
            [
             0.8888888888888888,
             "#fdca26"
            ],
            [
             1,
             "#f0f921"
            ]
           ]
          },
          "colorway": [
           "#636efa",
           "#EF553B",
           "#00cc96",
           "#ab63fa",
           "#FFA15A",
           "#19d3f3",
           "#FF6692",
           "#B6E880",
           "#FF97FF",
           "#FECB52"
          ],
          "font": {
           "color": "#2a3f5f"
          },
          "geo": {
           "bgcolor": "white",
           "lakecolor": "white",
           "landcolor": "#E5ECF6",
           "showlakes": true,
           "showland": true,
           "subunitcolor": "white"
          },
          "hoverlabel": {
           "align": "left"
          },
          "hovermode": "closest",
          "mapbox": {
           "style": "light"
          },
          "paper_bgcolor": "white",
          "plot_bgcolor": "#E5ECF6",
          "polar": {
           "angularaxis": {
            "gridcolor": "white",
            "linecolor": "white",
            "ticks": ""
           },
           "bgcolor": "#E5ECF6",
           "radialaxis": {
            "gridcolor": "white",
            "linecolor": "white",
            "ticks": ""
           }
          },
          "scene": {
           "xaxis": {
            "backgroundcolor": "#E5ECF6",
            "gridcolor": "white",
            "gridwidth": 2,
            "linecolor": "white",
            "showbackground": true,
            "ticks": "",
            "zerolinecolor": "white"
           },
           "yaxis": {
            "backgroundcolor": "#E5ECF6",
            "gridcolor": "white",
            "gridwidth": 2,
            "linecolor": "white",
            "showbackground": true,
            "ticks": "",
            "zerolinecolor": "white"
           },
           "zaxis": {
            "backgroundcolor": "#E5ECF6",
            "gridcolor": "white",
            "gridwidth": 2,
            "linecolor": "white",
            "showbackground": true,
            "ticks": "",
            "zerolinecolor": "white"
           }
          },
          "shapedefaults": {
           "line": {
            "color": "#2a3f5f"
           }
          },
          "ternary": {
           "aaxis": {
            "gridcolor": "white",
            "linecolor": "white",
            "ticks": ""
           },
           "baxis": {
            "gridcolor": "white",
            "linecolor": "white",
            "ticks": ""
           },
           "bgcolor": "#E5ECF6",
           "caxis": {
            "gridcolor": "white",
            "linecolor": "white",
            "ticks": ""
           }
          },
          "title": {
           "x": 0.05
          },
          "xaxis": {
           "automargin": true,
           "gridcolor": "white",
           "linecolor": "white",
           "ticks": "",
           "title": {
            "standoff": 15
           },
           "zerolinecolor": "white",
           "zerolinewidth": 2
          },
          "yaxis": {
           "automargin": true,
           "gridcolor": "white",
           "linecolor": "white",
           "ticks": "",
           "title": {
            "standoff": 15
           },
           "zerolinecolor": "white",
           "zerolinewidth": 2
          }
         }
        },
        "title": {
         "text": "Average Price of Hotels in Various Countries"
        },
        "xaxis": {
         "anchor": "y",
         "domain": [
          0,
          1
         ],
         "tickangle": 45,
         "title": {
          "text": "Country"
         }
        },
        "yaxis": {
         "anchor": "x",
         "domain": [
          0,
          1
         ],
         "title": {
          "text": "Mean Price"
         }
        }
       }
      }
     },
     "metadata": {},
     "output_type": "display_data"
    }
   ],
   "source": [
    "# Average Price of hotels in Various Countries\n",
    "\n",
    "grouped_data = airbnb_df.groupby('country')['price'].mean().reset_index()\n",
    "Coun_price_df=pd.DataFrame(grouped_data)\n",
    "\n",
    "Coun_price_df.rename(columns={'price': 'Mean_Price'}, inplace=True)\n",
    "\n",
    "# Create Plotly plot with hover functionality\n",
    "fig = px.bar(Coun_price_df, x='country', y='Mean_Price', color='Mean_Price', \n",
    "                title='Average Price of Hotels in Various Countries',\n",
    "                labels={'Country': 'Country', 'Mean_Price': 'Mean Price'},\n",
    "                color_continuous_scale='plasma')\n",
    "\n",
    "# Update layout to match the desired aesthetics\n",
    "fig.update_layout(\n",
    "    xaxis_title='Country',\n",
    "    yaxis_title='Mean Price',\n",
    "    xaxis=dict(tickangle=45)\n",
    ")\n",
    "\n",
    "# Show the plot\n",
    "fig.show()"
   ]
  },
  {
   "cell_type": "code",
   "execution_count": 39,
   "metadata": {},
   "outputs": [
    {
     "data": {
      "image/png": "[encoded data removed]",
      "text/plain": [
       "<Figure size 800x800 with 1 Axes>"
      ]
     },
     "metadata": {},
     "output_type": "display_data"
    }
   ],
   "source": [
    "# Average price of all room types\n",
    "\n",
    "# Group by room type and calculate the mean price\n",
    "grouped_data = airbnb_df.groupby('room_type')['price'].mean()\n",
    "\n",
    "# Create a pie chart\n",
    "plt.figure(figsize=(8, 8))\n",
    "plt.pie(grouped_data, labels=grouped_data.index, autopct='%1.1f%%', startangle=140, colors=plt.cm.viridis(np.linspace(0, 1, len(grouped_data))))\n",
    "plt.title('Average Price of All Room Types')\n",
    "plt.axis('equal')  # Equal aspect ratio ensures that pie is drawn as a circle.\n",
    "plt.show()\n"
   ]
  },
  {
   "cell_type": "code",
   "execution_count": 40,
   "metadata": {},
   "outputs": [
    {
     "data": {
      "application/vnd.plotly.v1+json": {
       "config": {
        "plotlyServerURL": "https://plot.ly"
       },
       "data": [
        {
         "alignmentgroup": "True",
         "hovertemplate": "<b>%{hovertext}</b><br><br>property_type=%{x}<br>rating=%{y}<extra></extra>",
         "hovertext": [
          "apartment"
         ],
         "legendgroup": "apartment",
         "marker": {
          "color": "#636efa",
          "pattern": {
           "shape": ""
          }
         },
         "name": "apartment",
         "offsetgroup": "apartment",
         "orientation": "v",
         "showlegend": true,
         "textposition": "auto",
         "type": "bar",
         "x": [
          "apartment"
         ],
         "xaxis": "x",
         "y": [
          92.94897236002835
         ],
         "yaxis": "y"
        },
        {
         "alignmentgroup": "True",
         "hovertemplate": "<b>%{hovertext}</b><br><br>property_type=%{x}<br>rating=%{y}<extra></extra>",
         "hovertext": [
          "bed and breakfast"
         ],
         "legendgroup": "bed and breakfast",
         "marker": {
          "color": "#EF553B",
          "pattern": {
           "shape": ""
          }
         },
         "name": "bed and breakfast",
         "offsetgroup": "bed and breakfast",
         "orientation": "v",
         "showlegend": true,
         "textposition": "auto",
         "type": "bar",
         "x": [
          "bed and breakfast"
         ],
         "xaxis": "x",
         "y": [
          92.47826086956522
         ],
         "yaxis": "y"
        },
        {
         "alignmentgroup": "True",
         "hovertemplate": "<b>%{hovertext}</b><br><br>property_type=%{x}<br>rating=%{y}<extra></extra>",
         "hovertext": [
          "boat house"
         ],
         "legendgroup": "boat house",
         "marker": {
          "color": "#00cc96",
          "pattern": {
           "shape": ""
          }
         },
         "name": "boat house",
         "offsetgroup": "boat house",
         "orientation": "v",
         "showlegend": true,
         "textposition": "auto",
         "type": "bar",
         "x": [
          "boat house"
         ],
         "xaxis": "x",
         "y": [
          88.33333333333333
         ],
         "yaxis": "y"
        },
        {
         "alignmentgroup": "True",
         "hovertemplate": "<b>%{hovertext}</b><br><br>property_type=%{x}<br>rating=%{y}<extra></extra>",
         "hovertext": [
          "bungalow"
         ],
         "legendgroup": "bungalow",
         "marker": {
          "color": "#ab63fa",
          "pattern": {
           "shape": ""
          }
         },
         "name": "bungalow",
         "offsetgroup": "bungalow",
         "orientation": "v",
         "showlegend": true,
         "textposition": "auto",
         "type": "bar",
         "x": [
          "bungalow"
         ],
         "xaxis": "x",
         "y": [
          96.5
         ],
         "yaxis": "y"
        },
        {
         "alignmentgroup": "True",
         "hovertemplate": "<b>%{hovertext}</b><br><br>property_type=%{x}<br>rating=%{y}<extra></extra>",
         "hovertext": [
          "cabin"
         ],
         "legendgroup": "cabin",
         "marker": {
          "color": "#FFA15A",
          "pattern": {
           "shape": ""
          }
         },
         "name": "cabin",
         "offsetgroup": "cabin",
         "orientation": "v",
         "showlegend": true,
         "textposition": "auto",
         "type": "bar",
         "x": [
          "cabin"
         ],
         "xaxis": "x",
         "y": [
          94
         ],
         "yaxis": "y"
        },
        {
         "alignmentgroup": "True",
         "hovertemplate": "<b>%{hovertext}</b><br><br>property_type=%{x}<br>rating=%{y}<extra></extra>",
         "hovertext": [
          "camp"
         ],
         "legendgroup": "camp",
         "marker": {
          "color": "#19d3f3",
          "pattern": {
           "shape": ""
          }
         },
         "name": "camp",
         "offsetgroup": "camp",
         "orientation": "v",
         "showlegend": true,
         "textposition": "auto",
         "type": "bar",
         "x": [
          "camp"
         ],
         "xaxis": "x",
         "y": [
          93.8
         ],
         "yaxis": "y"
        },
        {
         "alignmentgroup": "True",
         "hovertemplate": "<b>%{hovertext}</b><br><br>property_type=%{x}<br>rating=%{y}<extra></extra>",
         "hovertext": [
          "casa particular (cuba)"
         ],
         "legendgroup": "casa particular (cuba)",
         "marker": {
          "color": "#FF6692",
          "pattern": {
           "shape": ""
          }
         },
         "name": "casa particular (cuba)",
         "offsetgroup": "casa particular (cuba)",
         "orientation": "v",
         "showlegend": true,
         "textposition": "auto",
         "type": "bar",
         "x": [
          "casa particular (cuba)"
         ],
         "xaxis": "x",
         "y": [
          89
         ],
         "yaxis": "y"
        },
        {
         "alignmentgroup": "True",
         "hovertemplate": "<b>%{hovertext}</b><br><br>property_type=%{x}<br>rating=%{y}<extra></extra>",
         "hovertext": [
          "castle"
         ],
         "legendgroup": "castle",
         "marker": {
          "color": "#B6E880",
          "pattern": {
           "shape": ""
          }
         },
         "name": "castle",
         "offsetgroup": "castle",
         "orientation": "v",
         "showlegend": true,
         "textposition": "auto",
         "type": "bar",
         "x": [
          "castle"
         ],
         "xaxis": "x",
         "y": [
          93
         ],
         "yaxis": "y"
        },
        {
         "alignmentgroup": "True",
         "hovertemplate": "<b>%{hovertext}</b><br><br>property_type=%{x}<br>rating=%{y}<extra></extra>",
         "hovertext": [
          "farm stay"
         ],
         "legendgroup": "farm stay",
         "marker": {
          "color": "#FF97FF",
          "pattern": {
           "shape": ""
          }
         },
         "name": "farm stay",
         "offsetgroup": "farm stay",
         "orientation": "v",
         "showlegend": true,
         "textposition": "auto",
         "type": "bar",
         "x": [
          "farm stay"
         ],
         "xaxis": "x",
         "y": [
          95.88888888888889
         ],
         "yaxis": "y"
        },
        {
         "alignmentgroup": "True",
         "hovertemplate": "<b>%{hovertext}</b><br><br>property_type=%{x}<br>rating=%{y}<extra></extra>",
         "hovertext": [
          "guest suite"
         ],
         "legendgroup": "guest suite",
         "marker": {
          "color": "#FECB52",
          "pattern": {
           "shape": ""
          }
         },
         "name": "guest suite",
         "offsetgroup": "guest suite",
         "orientation": "v",
         "showlegend": true,
         "textposition": "auto",
         "type": "bar",
         "x": [
          "guest suite"
         ],
         "xaxis": "x",
         "y": [
          95.51851851851852
         ],
         "yaxis": "y"
        },
        {
         "alignmentgroup": "True",
         "hovertemplate": "<b>%{hovertext}</b><br><br>property_type=%{x}<br>rating=%{y}<extra></extra>",
         "hovertext": [
          "guesthouse"
         ],
         "legendgroup": "guesthouse",
         "marker": {
          "color": "#636efa",
          "pattern": {
           "shape": ""
          }
         },
         "name": "guesthouse",
         "offsetgroup": "guesthouse",
         "orientation": "v",
         "showlegend": true,
         "textposition": "auto",
         "type": "bar",
         "x": [
          "guesthouse"
         ],
         "xaxis": "x",
         "y": [
          93.60365853658537
         ],
         "yaxis": "y"
        },
        {
         "alignmentgroup": "True",
         "hovertemplate": "<b>%{hovertext}</b><br><br>property_type=%{x}<br>rating=%{y}<extra></extra>",
         "hovertext": [
          "heritage hotel (india)"
         ],
         "legendgroup": "heritage hotel (india)",
         "marker": {
          "color": "#EF553B",
          "pattern": {
           "shape": ""
          }
         },
         "name": "heritage hotel (india)",
         "offsetgroup": "heritage hotel (india)",
         "orientation": "v",
         "showlegend": true,
         "textposition": "auto",
         "type": "bar",
         "x": [
          "heritage hotel (india)"
         ],
         "xaxis": "x",
         "y": [
          93
         ],
         "yaxis": "y"
        },
        {
         "alignmentgroup": "True",
         "hovertemplate": "<b>%{hovertext}</b><br><br>property_type=%{x}<br>rating=%{y}<extra></extra>",
         "hovertext": [
          "hostel"
         ],
         "legendgroup": "hostel",
         "marker": {
          "color": "#00cc96",
          "pattern": {
           "shape": ""
          }
         },
         "name": "hostel",
         "offsetgroup": "hostel",
         "orientation": "v",
         "showlegend": true,
         "textposition": "auto",
         "type": "bar",
         "x": [
          "hostel"
         ],
         "xaxis": "x",
         "y": [
          92.96022727272727
         ],
         "yaxis": "y"
        },
        {
         "alignmentgroup": "True",
         "hovertemplate": "<b>%{hovertext}</b><br><br>property_type=%{x}<br>rating=%{y}<extra></extra>",
         "hovertext": [
          "hotel"
         ],
         "legendgroup": "hotel",
         "marker": {
          "color": "#ab63fa",
          "pattern": {
           "shape": ""
          }
         },
         "name": "hotel",
         "offsetgroup": "hotel",
         "orientation": "v",
         "showlegend": true,
         "textposition": "auto",
         "type": "bar",
         "x": [
          "hotel"
         ],
         "xaxis": "x",
         "y": [
          91.13924050632912
         ],
         "yaxis": "y"
        },
        {
         "alignmentgroup": "True",
         "hovertemplate": "<b>%{hovertext}</b><br><br>property_type=%{x}<br>rating=%{y}<extra></extra>",
         "hovertext": [
          "house"
         ],
         "legendgroup": "house",
         "marker": {
          "color": "#FFA15A",
          "pattern": {
           "shape": ""
          }
         },
         "name": "house",
         "offsetgroup": "house",
         "orientation": "v",
         "showlegend": true,
         "textposition": "auto",
         "type": "bar",
         "x": [
          "house"
         ],
         "xaxis": "x",
         "y": [
          94.7279411764706
         ],
         "yaxis": "y"
        },
        {
         "alignmentgroup": "True",
         "hovertemplate": "<b>%{hovertext}</b><br><br>property_type=%{x}<br>rating=%{y}<extra></extra>",
         "hovertext": [
          "hut"
         ],
         "legendgroup": "hut",
         "marker": {
          "color": "#19d3f3",
          "pattern": {
           "shape": ""
          }
         },
         "name": "hut",
         "offsetgroup": "hut",
         "orientation": "v",
         "showlegend": true,
         "textposition": "auto",
         "type": "bar",
         "x": [
          "hut"
         ],
         "xaxis": "x",
         "y": [
          96.5
         ],
         "yaxis": "y"
        },
        {
         "alignmentgroup": "True",
         "hovertemplate": "<b>%{hovertext}</b><br><br>property_type=%{x}<br>rating=%{y}<extra></extra>",
         "hovertext": [
          "other"
         ],
         "legendgroup": "other",
         "marker": {
          "color": "#FF6692",
          "pattern": {
           "shape": ""
          }
         },
         "name": "other",
         "offsetgroup": "other",
         "orientation": "v",
         "showlegend": true,
         "textposition": "auto",
         "type": "bar",
         "x": [
          "other"
         ],
         "xaxis": "x",
         "y": [
          91.94444444444444
         ],
         "yaxis": "y"
        },
        {
         "alignmentgroup": "True",
         "hovertemplate": "<b>%{hovertext}</b><br><br>property_type=%{x}<br>rating=%{y}<extra></extra>",
         "hovertext": [
          "pension (south korea)"
         ],
         "legendgroup": "pension (south korea)",
         "marker": {
          "color": "#B6E880",
          "pattern": {
           "shape": ""
          }
         },
         "name": "pension (south korea)",
         "offsetgroup": "pension (south korea)",
         "orientation": "v",
         "showlegend": true,
         "textposition": "auto",
         "type": "bar",
         "x": [
          "pension (south korea)"
         ],
         "xaxis": "x",
         "y": [
          89
         ],
         "yaxis": "y"
        },
        {
         "alignmentgroup": "True",
         "hovertemplate": "<b>%{hovertext}</b><br><br>property_type=%{x}<br>rating=%{y}<extra></extra>",
         "hovertext": [
          "resort"
         ],
         "legendgroup": "resort",
         "marker": {
          "color": "#FF97FF",
          "pattern": {
           "shape": ""
          }
         },
         "name": "resort",
         "offsetgroup": "resort",
         "orientation": "v",
         "showlegend": true,
         "textposition": "auto",
         "type": "bar",
         "x": [
          "resort"
         ],
         "xaxis": "x",
         "y": [
          92.63636363636364
         ],
         "yaxis": "y"
        },
        {
         "alignmentgroup": "True",
         "hovertemplate": "<b>%{hovertext}</b><br><br>property_type=%{x}<br>rating=%{y}<extra></extra>",
         "hovertext": [
          "train stay"
         ],
         "legendgroup": "train stay",
         "marker": {
          "color": "#FECB52",
          "pattern": {
           "shape": ""
          }
         },
         "name": "train stay",
         "offsetgroup": "train stay",
         "orientation": "v",
         "showlegend": true,
         "textposition": "auto",
         "type": "bar",
         "x": [
          "train stay"
         ],
         "xaxis": "x",
         "y": [
          99
         ],
         "yaxis": "y"
        },
        {
         "alignmentgroup": "True",
         "hovertemplate": "<b>%{hovertext}</b><br><br>property_type=%{x}<br>rating=%{y}<extra></extra>",
         "hovertext": [
          "treehouse"
         ],
         "legendgroup": "treehouse",
         "marker": {
          "color": "#636efa",
          "pattern": {
           "shape": ""
          }
         },
         "name": "treehouse",
         "offsetgroup": "treehouse",
         "orientation": "v",
         "showlegend": true,
         "textposition": "auto",
         "type": "bar",
         "x": [
          "treehouse"
         ],
         "xaxis": "x",
         "y": [
          99
         ],
         "yaxis": "y"
        },
        {
         "alignmentgroup": "True",
         "hovertemplate": "<b>%{hovertext}</b><br><br>property_type=%{x}<br>rating=%{y}<extra></extra>",
         "hovertext": [
          "villa"
         ],
         "legendgroup": "villa",
         "marker": {
          "color": "#EF553B",
          "pattern": {
           "shape": ""
          }
         },
         "name": "villa",
         "offsetgroup": "villa",
         "orientation": "v",
         "showlegend": true,
         "textposition": "auto",
         "type": "bar",
         "x": [
          "villa"
         ],
         "xaxis": "x",
         "y": [
          91.0625
         ],
         "yaxis": "y"
        }
       ],
       "layout": {
        "barmode": "relative",
        "legend": {
         "title": {
          "text": "property_type"
         },
         "tracegroupgap": 0
        },
        "template": {
         "data": {
          "bar": [
           {
            "error_x": {
             "color": "#2a3f5f"
            },
            "error_y": {
             "color": "#2a3f5f"
            },
            "marker": {
             "line": {
              "color": "#E5ECF6",
              "width": 0.5
             },
             "pattern": {
              "fillmode": "overlay",
              "size": 10,
              "solidity": 0.2
             }
            },
            "type": "bar"
           }
          ],
          "barpolar": [
           {
            "marker": {
             "line": {
              "color": "#E5ECF6",
              "width": 0.5
             },
             "pattern": {
              "fillmode": "overlay",
              "size": 10,
              "solidity": 0.2
             }
            },
            "type": "barpolar"
           }
          ],
          "carpet": [
           {
            "aaxis": {
             "endlinecolor": "#2a3f5f",
             "gridcolor": "white",
             "linecolor": "white",
             "minorgridcolor": "white",
             "startlinecolor": "#2a3f5f"
            },
            "baxis": {
             "endlinecolor": "#2a3f5f",
             "gridcolor": "white",
             "linecolor": "white",
             "minorgridcolor": "white",
             "startlinecolor": "#2a3f5f"
            },
            "type": "carpet"
           }
          ],
          "choropleth": [
           {
            "colorbar": {
             "outlinewidth": 0,
             "ticks": ""
            },
            "type": "choropleth"
           }
          ],
          "contour": [
           {
            "colorbar": {
             "outlinewidth": 0,
             "ticks": ""
            },
            "colorscale": [
             [
              0,
              "#0d0887"
             ],
             [
              0.1111111111111111,
              "#46039f"
             ],
             [
              0.2222222222222222,
              "#7201a8"
             ],
             [
              0.3333333333333333,
              "#9c179e"
             ],
             [
              0.4444444444444444,
              "#bd3786"
             ],
             [
              0.5555555555555556,
              "#d8576b"
             ],
             [
              0.6666666666666666,
              "#ed7953"
             ],
             [
              0.7777777777777778,
              "#fb9f3a"
             ],
             [
              0.8888888888888888,
              "#fdca26"
             ],
             [
              1,
              "#f0f921"
             ]
            ],
            "type": "contour"
           }
          ],
          "contourcarpet": [
           {
            "colorbar": {
             "outlinewidth": 0,
             "ticks": ""
            },
            "type": "contourcarpet"
           }
          ],
          "heatmap": [
           {
            "colorbar": {
             "outlinewidth": 0,
             "ticks": ""
            },
            "colorscale": [
             [
              0,
              "#0d0887"
             ],
             [
              0.1111111111111111,
              "#46039f"
             ],
             [
              0.2222222222222222,
              "#7201a8"
             ],
             [
              0.3333333333333333,
              "#9c179e"
             ],
             [
              0.4444444444444444,
              "#bd3786"
             ],
             [
              0.5555555555555556,
              "#d8576b"
             ],
             [
              0.6666666666666666,
              "#ed7953"
             ],
             [
              0.7777777777777778,
              "#fb9f3a"
             ],
             [
              0.8888888888888888,
              "#fdca26"
             ],
             [
              1,
              "#f0f921"
             ]
            ],
            "type": "heatmap"
           }
          ],
          "heatmapgl": [
           {
            "colorbar": {
             "outlinewidth": 0,
             "ticks": ""
            },
            "colorscale": [
             [
              0,
              "#0d0887"
             ],
             [
              0.1111111111111111,
              "#46039f"
             ],
             [
              0.2222222222222222,
              "#7201a8"
             ],
             [
              0.3333333333333333,
              "#9c179e"
             ],
             [
              0.4444444444444444,
              "#bd3786"
             ],
             [
              0.5555555555555556,
              "#d8576b"
             ],
             [
              0.6666666666666666,
              "#ed7953"
             ],
             [
              0.7777777777777778,
              "#fb9f3a"
             ],
             [
              0.8888888888888888,
              "#fdca26"
             ],
             [
              1,
              "#f0f921"
             ]
            ],
            "type": "heatmapgl"
           }
          ],
          "histogram": [
           {
            "marker": {
             "pattern": {
              "fillmode": "overlay",
              "size": 10,
              "solidity": 0.2
             }
            },
            "type": "histogram"
           }
          ],
          "histogram2d": [
           {
            "colorbar": {
             "outlinewidth": 0,
             "ticks": ""
            },
            "colorscale": [
             [
              0,
              "#0d0887"
             ],
             [
              0.1111111111111111,
              "#46039f"
             ],
             [
              0.2222222222222222,
              "#7201a8"
             ],
             [
              0.3333333333333333,
              "#9c179e"
             ],
             [
              0.4444444444444444,
              "#bd3786"
             ],
             [
              0.5555555555555556,
              "#d8576b"
             ],
             [
              0.6666666666666666,
              "#ed7953"
             ],
             [
              0.7777777777777778,
              "#fb9f3a"
             ],
             [
              0.8888888888888888,
              "#fdca26"
             ],
             [
              1,
              "#f0f921"
             ]
            ],
            "type": "histogram2d"
           }
          ],
          "histogram2dcontour": [
           {
            "colorbar": {
             "outlinewidth": 0,
             "ticks": ""
            },
            "colorscale": [
             [
              0,
              "#0d0887"
             ],
             [
              0.1111111111111111,
              "#46039f"
             ],
             [
              0.2222222222222222,
              "#7201a8"
             ],
             [
              0.3333333333333333,
              "#9c179e"
             ],
             [
              0.4444444444444444,
              "#bd3786"
             ],
             [
              0.5555555555555556,
              "#d8576b"
             ],
             [
              0.6666666666666666,
              "#ed7953"
             ],
             [
              0.7777777777777778,
              "#fb9f3a"
             ],
             [
              0.8888888888888888,
              "#fdca26"
             ],
             [
              1,
              "#f0f921"
             ]
            ],
            "type": "histogram2dcontour"
           }
          ],
          "mesh3d": [
           {
            "colorbar": {
             "outlinewidth": 0,
             "ticks": ""
            },
            "type": "mesh3d"
           }
          ],
          "parcoords": [
           {
            "line": {
             "colorbar": {
              "outlinewidth": 0,
              "ticks": ""
             }
            },
            "type": "parcoords"
           }
          ],
          "pie": [
           {
            "automargin": true,
            "type": "pie"
           }
          ],
          "scatter": [
           {
            "fillpattern": {
             "fillmode": "overlay",
             "size": 10,
             "solidity": 0.2
            },
            "type": "scatter"
           }
          ],
          "scatter3d": [
           {
            "line": {
             "colorbar": {
              "outlinewidth": 0,
              "ticks": ""
             }
            },
            "marker": {
             "colorbar": {
              "outlinewidth": 0,
              "ticks": ""
             }
            },
            "type": "scatter3d"
           }
          ],
          "scattercarpet": [
           {
            "marker": {
             "colorbar": {
              "outlinewidth": 0,
              "ticks": ""
             }
            },
            "type": "scattercarpet"
           }
          ],
          "scattergeo": [
           {
            "marker": {
             "colorbar": {
              "outlinewidth": 0,
              "ticks": ""
             }
            },
            "type": "scattergeo"
           }
          ],
          "scattergl": [
           {
            "marker": {
             "colorbar": {
              "outlinewidth": 0,
              "ticks": ""
             }
            },
            "type": "scattergl"
           }
          ],
          "scattermapbox": [
           {
            "marker": {
             "colorbar": {
              "outlinewidth": 0,
              "ticks": ""
             }
            },
            "type": "scattermapbox"
           }
          ],
          "scatterpolar": [
           {
            "marker": {
             "colorbar": {
              "outlinewidth": 0,
              "ticks": ""
             }
            },
            "type": "scatterpolar"
           }
          ],
          "scatterpolargl": [
           {
            "marker": {
             "colorbar": {
              "outlinewidth": 0,
              "ticks": ""
             }
            },
            "type": "scatterpolargl"
           }
          ],
          "scatterternary": [
           {
            "marker": {
             "colorbar": {
              "outlinewidth": 0,
              "ticks": ""
             }
            },
            "type": "scatterternary"
           }
          ],
          "surface": [
           {
            "colorbar": {
             "outlinewidth": 0,
             "ticks": ""
            },
            "colorscale": [
             [
              0,
              "#0d0887"
             ],
             [
              0.1111111111111111,
              "#46039f"
             ],
             [
              0.2222222222222222,
              "#7201a8"
             ],
             [
              0.3333333333333333,
              "#9c179e"
             ],
             [
              0.4444444444444444,
              "#bd3786"
             ],
             [
              0.5555555555555556,
              "#d8576b"
             ],
             [
              0.6666666666666666,
              "#ed7953"
             ],
             [
              0.7777777777777778,
              "#fb9f3a"
             ],
             [
              0.8888888888888888,
              "#fdca26"
             ],
             [
              1,
              "#f0f921"
             ]
            ],
            "type": "surface"
           }
          ],
          "table": [
           {
            "cells": {
             "fill": {
              "color": "#EBF0F8"
             },
             "line": {
              "color": "white"
             }
            },
            "header": {
             "fill": {
              "color": "#C8D4E3"
             },
             "line": {
              "color": "white"
             }
            },
            "type": "table"
           }
          ]
         },
         "layout": {
          "annotationdefaults": {
           "arrowcolor": "#2a3f5f",
           "arrowhead": 0,
           "arrowwidth": 1
          },
          "autotypenumbers": "strict",
          "coloraxis": {
           "colorbar": {
            "outlinewidth": 0,
            "ticks": ""
           }
          },
          "colorscale": {
           "diverging": [
            [
             0,
             "#8e0152"
            ],
            [
             0.1,
             "#c51b7d"
            ],
            [
             0.2,
             "#de77ae"
            ],
            [
             0.3,
             "#f1b6da"
            ],
            [
             0.4,
             "#fde0ef"
            ],
            [
             0.5,
             "#f7f7f7"
            ],
            [
             0.6,
             "#e6f5d0"
            ],
            [
             0.7,
             "#b8e186"
            ],
            [
             0.8,
             "#7fbc41"
            ],
            [
             0.9,
             "#4d9221"
            ],
            [
             1,
             "#276419"
            ]
           ],
           "sequential": [
            [
             0,
             "#0d0887"
            ],
            [
             0.1111111111111111,
             "#46039f"
            ],
            [
             0.2222222222222222,
             "#7201a8"
            ],
            [
             0.3333333333333333,
             "#9c179e"
            ],
            [
             0.4444444444444444,
             "#bd3786"
            ],
            [
             0.5555555555555556,
             "#d8576b"
            ],
            [
             0.6666666666666666,
             "#ed7953"
            ],
            [
             0.7777777777777778,
             "#fb9f3a"
            ],
            [
             0.8888888888888888,
             "#fdca26"
            ],
            [
             1,
             "#f0f921"
            ]
           ],
           "sequentialminus": [
            [
             0,
             "#0d0887"
            ],
            [
             0.1111111111111111,
             "#46039f"
            ],
            [
             0.2222222222222222,
             "#7201a8"
            ],
            [
             0.3333333333333333,
             "#9c179e"
            ],
            [
             0.4444444444444444,
             "#bd3786"
            ],
            [
             0.5555555555555556,
             "#d8576b"
            ],
            [
             0.6666666666666666,
             "#ed7953"
            ],
            [
             0.7777777777777778,
             "#fb9f3a"
            ],
            [
             0.8888888888888888,
             "#fdca26"
            ],
            [
             1,
             "#f0f921"
            ]
           ]
          },
          "colorway": [
           "#636efa",
           "#EF553B",
           "#00cc96",
           "#ab63fa",
           "#FFA15A",
           "#19d3f3",
           "#FF6692",
           "#B6E880",
           "#FF97FF",
           "#FECB52"
          ],
          "font": {
           "color": "#2a3f5f"
          },
          "geo": {
           "bgcolor": "white",
           "lakecolor": "white",
           "landcolor": "#E5ECF6",
           "showlakes": true,
           "showland": true,
           "subunitcolor": "white"
          },
          "hoverlabel": {
           "align": "left"
          },
          "hovermode": "closest",
          "mapbox": {
           "style": "light"
          },
          "paper_bgcolor": "white",
          "plot_bgcolor": "#E5ECF6",
          "polar": {
           "angularaxis": {
            "gridcolor": "white",
            "linecolor": "white",
            "ticks": ""
           },
           "bgcolor": "#E5ECF6",
           "radialaxis": {
            "gridcolor": "white",
            "linecolor": "white",
            "ticks": ""
           }
          },
          "scene": {
           "xaxis": {
            "backgroundcolor": "#E5ECF6",
            "gridcolor": "white",
            "gridwidth": 2,
            "linecolor": "white",
            "showbackground": true,
            "ticks": "",
            "zerolinecolor": "white"
           },
           "yaxis": {
            "backgroundcolor": "#E5ECF6",
            "gridcolor": "white",
            "gridwidth": 2,
            "linecolor": "white",
            "showbackground": true,
            "ticks": "",
            "zerolinecolor": "white"
           },
           "zaxis": {
            "backgroundcolor": "#E5ECF6",
            "gridcolor": "white",
            "gridwidth": 2,
            "linecolor": "white",
            "showbackground": true,
            "ticks": "",
            "zerolinecolor": "white"
           }
          },
          "shapedefaults": {
           "line": {
            "color": "#2a3f5f"
           }
          },
          "ternary": {
           "aaxis": {
            "gridcolor": "white",
            "linecolor": "white",
            "ticks": ""
           },
           "baxis": {
            "gridcolor": "white",
            "linecolor": "white",
            "ticks": ""
           },
           "bgcolor": "#E5ECF6",
           "caxis": {
            "gridcolor": "white",
            "linecolor": "white",
            "ticks": ""
           }
          },
          "title": {
           "x": 0.05
          },
          "xaxis": {
           "automargin": true,
           "gridcolor": "white",
           "linecolor": "white",
           "ticks": "",
           "title": {
            "standoff": 15
           },
           "zerolinecolor": "white",
           "zerolinewidth": 2
          },
          "yaxis": {
           "automargin": true,
           "gridcolor": "white",
           "linecolor": "white",
           "ticks": "",
           "title": {
            "standoff": 15
           },
           "zerolinecolor": "white",
           "zerolinewidth": 2
          }
         }
        },
        "title": {
         "text": "Average Ratings of all Property Types"
        },
        "xaxis": {
         "anchor": "y",
         "categoryarray": [
          "apartment",
          "bed and breakfast",
          "boat house",
          "bungalow",
          "cabin",
          "camp",
          "casa particular (cuba)",
          "castle",
          "farm stay",
          "guest suite",
          "guesthouse",
          "heritage hotel (india)",
          "hostel",
          "hotel",
          "house",
          "hut",
          "other",
          "pension (south korea)",
          "resort",
          "train stay",
          "treehouse",
          "villa"
         ],
         "categoryorder": "array",
         "domain": [
          0,
          1
         ],
         "tickangle": 60,
         "title": {
          "text": "Property Type"
         }
        },
        "yaxis": {
         "anchor": "x",
         "domain": [
          0,
          1
         ],
         "title": {
          "text": "Rating"
         }
        }
       }
      }
     },
     "metadata": {},
     "output_type": "display_data"
    }
   ],
   "source": [
    "# Average Ratings of all Property Types\n",
    "\n",
    "grouped_data = airbnb_df.groupby('property_type')['rating'].mean().reset_index()\n",
    "pt_rating_df = pd.DataFrame(grouped_data)\n",
    "\n",
    "# Plotly Express bar chart with hovering\n",
    "fig = px.bar(grouped_data, x='property_type', y='rating', color='property_type',\n",
    "                title='Average Ratings of all Property Types',\n",
    "                labels={'Property_type': 'property Type', 'Rating': 'rating'},\n",
    "                hover_name='property_type', hover_data={'rating': True})\n",
    "\n",
    "# Customize layout if needed\n",
    "fig.update_layout(xaxis_title='Property Type', yaxis_title='Rating', xaxis_tickangle=60)\n",
    "\n",
    "# Show the plot\n",
    "fig.show()"
   ]
  },
  {
   "cell_type": "code",
   "execution_count": 41,
   "metadata": {},
   "outputs": [
    {
     "data": {
      "text/plain": [
       "<Axes: title={'center': 'Correlation between room pricing and fundamental room attributes'}>"
      ]
     },
     "execution_count": 41,
     "metadata": {},
     "output_type": "execute_result"
    },
    {
     "data": {
      "image/png": "[encoded data removed]",
      "text/plain": [
       "<Figure size 1200x600 with 2 Axes>"
      ]
     },
     "metadata": {},
     "output_type": "display_data"
    }
   ],
   "source": [
    "# Correlation between room pricing and fundamental room attributes\n",
    "\n",
    "cor=airbnb_df[['price', 'accommodates', 'bedrooms', 'beds', 'bathrooms', 'cleaning_fee']].corr()\n",
    "\n",
    "plt.figure(figsize=(12,6))\n",
    "plt.title('Correlation between room pricing and fundamental room attributes')\n",
    "sns.heatmap(cor,annot=True,cmap='viridis')"
   ]
  },
  {
   "cell_type": "code",
   "execution_count": 42,
   "metadata": {},
   "outputs": [
    {
     "data": {
      "text/plain": [
       "<Axes: title={'center': 'Correlation between Room pricing and Ratings'}>"
      ]
     },
     "execution_count": 42,
     "metadata": {},
     "output_type": "execute_result"
    },
    {
     "data": {
      "image/png": "[encoded data removed]",
      "text/plain": [
       "<Figure size 1200x600 with 2 Axes>"
      ]
     },
     "metadata": {},
     "output_type": "display_data"
    }
   ],
   "source": [
    "# Correlation between room pricing and ratings\n",
    "\n",
    "cor=airbnb_df[['price', 'rating', 'overall_score', 'cleanliness_score', 'location_score', 'number_of_reviews']].corr()\n",
    "\n",
    "plt.figure(figsize=(12,6))\n",
    "plt.title('Correlation between Room pricing and Ratings')\n",
    "sns.heatmap(cor,annot=True,cmap='bone')"
   ]
  },
  {
   "cell_type": "markdown",
   "metadata": {},
   "source": [
    "SQL Migration"
   ]
  },
  {
   "cell_type": "code",
   "execution_count": 44,
   "metadata": {},
   "outputs": [],
   "source": [
    "# SQL Connection to python\n",
    "\n",
    "import mysql.connector\n",
    "from sqlalchemy import create_engine\n",
    "\n",
    "mydb = mysql.connector.connect(host=\"localhost\",user=\"root\",password=\"\")\n",
    "mycursor = mydb.cursor(buffered=True,)\n",
    "\n",
    "# creating database and using for table creation\n",
    "\n",
    "mycursor.execute('create database if not exists airbnb')\n",
    "mycursor.execute('use airbnb')\n"
   ]
  },
  {
   "cell_type": "code",
   "execution_count": 45,
   "metadata": {},
   "outputs": [],
   "source": [
    "# Created Hotels_info table in sql database and inserted the values \n",
    "\n",
    "mycursor.execute('''create table if not exists hotels_info (id VARCHAR(50) PRIMARY KEY, listing_url VARCHAR(500),\n",
    "                name VARCHAR(100), description TEXT, neighborhood_overview TEXT, transit TEXT, street VARCHAR(100),\n",
    "                suburb VARCHAR(100), government_area VARCHAR(100), market VARCHAR(100), country VARCHAR(100),\n",
    "                country_code VARCHAR(50), coordinates VARCHAR(100), price INT, weekly_price INT, monthly_price INT, \n",
    "                security_deposit INT, cleaning_fee INT, cancellation_policy VARCHAR(50))\n",
    "                    ''')\n",
    "\n",
    "insert_value='''INSERT INTO hotels_info (id, listing_url, name, description, neighborhood_overview, transit, street,suburb,\n",
    "                government_area, market, country, country_code, coordinates, price, weekly_price, monthly_price,\n",
    "                security_deposit, cleaning_fee, cancellation_policy) \n",
    "                VALUES (%s, %s, %s, %s, %s, %s, %s, %s, %s, %s, %s, %s, %s, %s, %s, %s, %s, %s, %s)'''\n",
    "\n",
    "data = [tuple(row) for row in Hotel_info.values]\n",
    "\n",
    "mycursor.executemany(insert_value,data)\n",
    "mydb.commit()"
   ]
  },
  {
   "cell_type": "code",
   "execution_count": 46,
   "metadata": {},
   "outputs": [],
   "source": [
    "# Created Rooms_info table in sql database and inserted the values \n",
    "\n",
    "mycursor.execute('''create table if not exists rooms_info (id VARCHAR(50), images VARCHAR(500), property_type VARCHAR(50),\n",
    "                room_type VARCHAR(50), bed_type VARCHAR(50), minimum_nights VARCHAR(10), maximum_nights VARCHAR(10),\n",
    "                accommodates INT, bedrooms INT, beds INT, bathrooms INT, amenities TEXT, guests_included INT,\n",
    "                availability_30 INT, availability_60 INT, availability_90 INT, availability_365 INT,\n",
    "                FOREIGN KEY(id) REFERENCES hotels_info(id))\n",
    "                ''') \n",
    "\n",
    "insert_value='''INSERT INTO rooms_info (id, images, property_type, room_type, bed_type, minimum_nights, maximum_nights,\n",
    "                accommodates, bedrooms, beds, bathrooms, amenities, guests_included, availability_30, availability_60,\n",
    "                availability_90, availability_365)\n",
    "                VALUES (%s,%s,%s,%s,%s,%s,%s,%s,%s,%s,%s,%s,%s,%s,%s,%s,%s)'''\n",
    "\n",
    "data= [tuple(row) for row in Room_info.values]\n",
    "\n",
    "mycursor.executemany(insert_value,data)\n",
    "\n",
    "mydb.commit()"
   ]
  },
  {
   "cell_type": "code",
   "execution_count": 47,
   "metadata": {},
   "outputs": [],
   "source": [
    "# Created Hosts_info table in sql database and inserted the values \n",
    "\n",
    "mycursor.execute('''create table if not exists host_info (id VARCHAR(50), host_id VARCHAR(50), host_url VARCHAR(500),\n",
    "                host_name VARCHAR(100), host_location VARCHAR(100), host_about TEXT, host_picture_url VARCHAR(500),\n",
    "                host_neighbourhood VARCHAR(500), host_response_rate INT, host_total_listings INT, host_verifications VARCHAR(500),\n",
    "                FOREIGN KEY(id) REFERENCES hotels_info(id))\n",
    "                ''')\n",
    "\n",
    "insert_value='''INSERT INTO host_info (id, host_id, host_url, host_name, host_location, host_about, host_picture_url,\n",
    "                host_neighbourhood, host_response_rate, host_total_listings, host_verifications)\n",
    "                VALUES (%s,%s,%s,%s,%s,%s,%s,%s,%s,%s,%s)'''\n",
    "\n",
    "data= [tuple(row) for row in Host_info.values]\n",
    "\n",
    "mycursor.executemany(insert_value,data)\n",
    "\n",
    "mydb.commit()"
   ]
  },
  {
   "cell_type": "code",
   "execution_count": 48,
   "metadata": {},
   "outputs": [],
   "source": [
    "# Created Reviwes_info table in sql database and inserted the values \n",
    "\n",
    "mycursor.execute('''create table if not exists reviews_info (id VARCHAR(50), first_review DATETIME, last_review DATETIME,\n",
    "                number_of_reviews INT, overall_score INT, cleanliness_score INT, checkin_score INT, communication_score INT,\n",
    "                location_score INT, value_score INT,rating INT, FOREIGN KEY(id) REFERENCES hotels_info(id))\n",
    "                ''')\n",
    "\n",
    "insert_value='''INSERT INTO reviews_info (id, first_review, last_review, number_of_reviews, overall_score, cleanliness_score,\n",
    "                checkin_score, communication_score, location_score, value_score, rating)\n",
    "                VALUES (%s,%s,%s,%s,%s,%s,%s,%s,%s,%s,%s)'''\n",
    "\n",
    "data= [tuple(row) for row in Review_info.values]\n",
    "\n",
    "mycursor.executemany(insert_value,data)\n",
    "\n",
    "mydb.commit()"
   ]
  },
  {
   "cell_type": "code",
   "execution_count": 49,
   "metadata": {},
   "outputs": [],
   "source": [
    "# Created Comments_info table in sql database and inserted the values \n",
    "\n",
    "mycursor.execute('''create table if not exists comments_info (id VARCHAR(50), comment_id VARCHAR(50), date DATETIME,\n",
    "                reviewer_id VARCHAR(50), reviewer_name VARCHAR(50), comments TEXT, FOREIGN KEY(id) REFERENCES hotels_info(id))\n",
    "                ''')\n",
    "\n",
    "insert_value='''INSERT INTO comments_info (id, comment_id, date, reviewer_id, reviewer_name ,comments)\n",
    "                VALUES (%s,%s,%s,%s,%s,%s)'''\n",
    "\n",
    "data= [tuple(row) for row in Review_comments_info.values]\n",
    "\n",
    "mycursor.executemany(insert_value,data)\n",
    "\n",
    "mydb.commit()"
   ]
  }
 ],
 "metadata": {
  "kernelspec": {
   "display_name": ".venv",
   "language": "python",
   "name": "python3"
  },
  "language_info": {
   "codemirror_mode": {
    "name": "ipython",
    "version": 3
   },
   "file_extension": ".py",
   "mimetype": "text/x-python",
   "name": "python",
   "nbconvert_exporter": "python",
   "pygments_lexer": "ipython3",
   "version": "3.12.2"
  }
 },
 "nbformat": 4,
 "nbformat_minor": 2
}
